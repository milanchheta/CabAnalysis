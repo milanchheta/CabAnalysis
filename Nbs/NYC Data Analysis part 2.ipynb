{
 "cells": [
  {
   "cell_type": "code",
   "execution_count": null,
   "metadata": {},
   "outputs": [],
   "source": [
    "# https://sebastianraschka.com/Articles/2014_sqlite_in_python_tutorial.html\n",
    "    \n",
    "# https://datacarpentry.org/python-ecology-lesson/09-working-with-sql/index.html\n",
    "    \n",
    "# https://stackoverflow.com/questions/43029554/csv-insert-per-line-to-mysql-python"
   ]
  },
  {
   "cell_type": "code",
   "execution_count": null,
   "metadata": {},
   "outputs": [],
   "source": []
  },
  {
   "cell_type": "code",
   "execution_count": 1,
   "metadata": {
    "scrolled": true
   },
   "outputs": [],
   "source": [
    "#!pip install cufflinks\n",
    "#!pip install pyshp\n",
    "#!pip install descartes\n",
    "#!pip install SQLAlchemy"
   ]
  },
  {
   "cell_type": "code",
   "execution_count": 2,
   "metadata": {},
   "outputs": [
    {
     "data": {
      "text/html": [
       "        <script type=\"text/javascript\">\n",
       "        window.PlotlyConfig = {MathJaxConfig: 'local'};\n",
       "        if (window.MathJax) {MathJax.Hub.Config({SVG: {font: \"STIX-Web\"}});}\n",
       "        if (typeof require !== 'undefined') {\n",
       "        require.undef(\"plotly\");\n",
       "        requirejs.config({\n",
       "            paths: {\n",
       "                'plotly': ['https://cdn.plot.ly/plotly-latest.min']\n",
       "            }\n",
       "        });\n",
       "        require(['plotly'], function(Plotly) {\n",
       "            window._Plotly = Plotly;\n",
       "        });\n",
       "        }\n",
       "        </script>\n",
       "        "
      ]
     },
     "metadata": {},
     "output_type": "display_data"
    }
   ],
   "source": [
    "import pandas as pd\n",
    "import numpy as np\n",
    "import urllib.request\n",
    "import zipfile\n",
    "import random\n",
    "import itertools\n",
    "import math\n",
    "import folium\n",
    "\n",
    "import shapefile\n",
    "from shapely.geometry import Polygon\n",
    "from descartes.patch import PolygonPatch\n",
    "import matplotlib as mpl\n",
    "import matplotlib.pyplot as plt\n",
    "plt.style.use('ggplot')\n",
    "%matplotlib inline\n",
    "\n",
    "import cufflinks as cf\n",
    "import plotly.offline\n",
    "cf.go_offline()\n",
    "cf.set_config_file(offline=False, world_readable=True)"
   ]
  },
  {
   "cell_type": "code",
   "execution_count": 3,
   "metadata": {},
   "outputs": [],
   "source": [
    "from sqlalchemy import create_engine\n",
    "\n",
    "nyc_database = create_engine('sqlite:///nyc_database.db')"
   ]
  },
  {
   "cell_type": "code",
   "execution_count": 3,
   "metadata": {},
   "outputs": [],
   "source": [
    "# Download the Trip Record Data\n",
    "for month in range(1,2):\n",
    "    urllib.request.urlretrieve(\"https://s3.amazonaws.com/nyc-tlc/trip+data/\"+ \\\n",
    "                               \"yellow_tripdata_2019-{0:0=2d}.csv\".format(month), \n",
    "                               \"data/nyc_2019-{0:0=2d}.csv\".format(month))\n",
    "# Download the location Data\n",
    "# urllib.request.urlretrieve(\"https://s3.amazonaws.com/nyc-tlc/misc/taxi_zones.zip\", \"taxi_zones.zip\")\n",
    "# with zipfile.ZipFile(\"taxi_zones.zip\",\"r\") as zip_ref:\n",
    "#     zip_ref.extractall(\"./data/shape\")"
   ]
  },
  {
   "cell_type": "code",
   "execution_count": 4,
   "metadata": {},
   "outputs": [
    {
     "data": {
      "text/html": [
       "<div>\n",
       "<style scoped>\n",
       "    .dataframe tbody tr th:only-of-type {\n",
       "        vertical-align: middle;\n",
       "    }\n",
       "\n",
       "    .dataframe tbody tr th {\n",
       "        vertical-align: top;\n",
       "    }\n",
       "\n",
       "    .dataframe thead th {\n",
       "        text-align: right;\n",
       "    }\n",
       "</style>\n",
       "<table border=\"1\" class=\"dataframe\">\n",
       "  <thead>\n",
       "    <tr style=\"text-align: right;\">\n",
       "      <th></th>\n",
       "      <th>VendorID</th>\n",
       "      <th>tpep_pickup_datetime</th>\n",
       "      <th>tpep_dropoff_datetime</th>\n",
       "      <th>passenger_count</th>\n",
       "      <th>trip_distance</th>\n",
       "      <th>RatecodeID</th>\n",
       "      <th>store_and_fwd_flag</th>\n",
       "      <th>PULocationID</th>\n",
       "      <th>DOLocationID</th>\n",
       "      <th>payment_type</th>\n",
       "      <th>fare_amount</th>\n",
       "      <th>extra</th>\n",
       "      <th>mta_tax</th>\n",
       "      <th>tip_amount</th>\n",
       "      <th>tolls_amount</th>\n",
       "      <th>improvement_surcharge</th>\n",
       "      <th>total_amount</th>\n",
       "      <th>congestion_surcharge</th>\n",
       "    </tr>\n",
       "  </thead>\n",
       "  <tbody>\n",
       "    <tr>\n",
       "      <td>0</td>\n",
       "      <td>1</td>\n",
       "      <td>2019-01-01 00:46:40</td>\n",
       "      <td>2019-01-01 00:53:20</td>\n",
       "      <td>1</td>\n",
       "      <td>1.5</td>\n",
       "      <td>1</td>\n",
       "      <td>N</td>\n",
       "      <td>151</td>\n",
       "      <td>239</td>\n",
       "      <td>1</td>\n",
       "      <td>7.0</td>\n",
       "      <td>0.5</td>\n",
       "      <td>0.5</td>\n",
       "      <td>1.65</td>\n",
       "      <td>0.0</td>\n",
       "      <td>0.3</td>\n",
       "      <td>9.95</td>\n",
       "      <td>NaN</td>\n",
       "    </tr>\n",
       "    <tr>\n",
       "      <td>1</td>\n",
       "      <td>1</td>\n",
       "      <td>2019-01-01 00:59:47</td>\n",
       "      <td>2019-01-01 01:18:59</td>\n",
       "      <td>1</td>\n",
       "      <td>2.6</td>\n",
       "      <td>1</td>\n",
       "      <td>N</td>\n",
       "      <td>239</td>\n",
       "      <td>246</td>\n",
       "      <td>1</td>\n",
       "      <td>14.0</td>\n",
       "      <td>0.5</td>\n",
       "      <td>0.5</td>\n",
       "      <td>1.00</td>\n",
       "      <td>0.0</td>\n",
       "      <td>0.3</td>\n",
       "      <td>16.30</td>\n",
       "      <td>NaN</td>\n",
       "    </tr>\n",
       "    <tr>\n",
       "      <td>2</td>\n",
       "      <td>2</td>\n",
       "      <td>2018-12-21 13:48:30</td>\n",
       "      <td>2018-12-21 13:52:40</td>\n",
       "      <td>3</td>\n",
       "      <td>0.0</td>\n",
       "      <td>1</td>\n",
       "      <td>N</td>\n",
       "      <td>236</td>\n",
       "      <td>236</td>\n",
       "      <td>1</td>\n",
       "      <td>4.5</td>\n",
       "      <td>0.5</td>\n",
       "      <td>0.5</td>\n",
       "      <td>0.00</td>\n",
       "      <td>0.0</td>\n",
       "      <td>0.3</td>\n",
       "      <td>5.80</td>\n",
       "      <td>NaN</td>\n",
       "    </tr>\n",
       "    <tr>\n",
       "      <td>3</td>\n",
       "      <td>2</td>\n",
       "      <td>2018-11-28 15:52:25</td>\n",
       "      <td>2018-11-28 15:55:45</td>\n",
       "      <td>5</td>\n",
       "      <td>0.0</td>\n",
       "      <td>1</td>\n",
       "      <td>N</td>\n",
       "      <td>193</td>\n",
       "      <td>193</td>\n",
       "      <td>2</td>\n",
       "      <td>3.5</td>\n",
       "      <td>0.5</td>\n",
       "      <td>0.5</td>\n",
       "      <td>0.00</td>\n",
       "      <td>0.0</td>\n",
       "      <td>0.3</td>\n",
       "      <td>7.55</td>\n",
       "      <td>NaN</td>\n",
       "    </tr>\n",
       "    <tr>\n",
       "      <td>4</td>\n",
       "      <td>2</td>\n",
       "      <td>2018-11-28 15:56:57</td>\n",
       "      <td>2018-11-28 15:58:33</td>\n",
       "      <td>5</td>\n",
       "      <td>0.0</td>\n",
       "      <td>2</td>\n",
       "      <td>N</td>\n",
       "      <td>193</td>\n",
       "      <td>193</td>\n",
       "      <td>2</td>\n",
       "      <td>52.0</td>\n",
       "      <td>0.0</td>\n",
       "      <td>0.5</td>\n",
       "      <td>0.00</td>\n",
       "      <td>0.0</td>\n",
       "      <td>0.3</td>\n",
       "      <td>55.55</td>\n",
       "      <td>NaN</td>\n",
       "    </tr>\n",
       "  </tbody>\n",
       "</table>\n",
       "</div>"
      ],
      "text/plain": [
       "   VendorID tpep_pickup_datetime tpep_dropoff_datetime  passenger_count  \\\n",
       "0         1  2019-01-01 00:46:40   2019-01-01 00:53:20                1   \n",
       "1         1  2019-01-01 00:59:47   2019-01-01 01:18:59                1   \n",
       "2         2  2018-12-21 13:48:30   2018-12-21 13:52:40                3   \n",
       "3         2  2018-11-28 15:52:25   2018-11-28 15:55:45                5   \n",
       "4         2  2018-11-28 15:56:57   2018-11-28 15:58:33                5   \n",
       "\n",
       "   trip_distance  RatecodeID store_and_fwd_flag  PULocationID  DOLocationID  \\\n",
       "0            1.5           1                  N           151           239   \n",
       "1            2.6           1                  N           239           246   \n",
       "2            0.0           1                  N           236           236   \n",
       "3            0.0           1                  N           193           193   \n",
       "4            0.0           2                  N           193           193   \n",
       "\n",
       "   payment_type  fare_amount  extra  mta_tax  tip_amount  tolls_amount  \\\n",
       "0             1          7.0    0.5      0.5        1.65           0.0   \n",
       "1             1         14.0    0.5      0.5        1.00           0.0   \n",
       "2             1          4.5    0.5      0.5        0.00           0.0   \n",
       "3             2          3.5    0.5      0.5        0.00           0.0   \n",
       "4             2         52.0    0.0      0.5        0.00           0.0   \n",
       "\n",
       "   improvement_surcharge  total_amount  congestion_surcharge  \n",
       "0                    0.3          9.95                   NaN  \n",
       "1                    0.3         16.30                   NaN  \n",
       "2                    0.3          5.80                   NaN  \n",
       "3                    0.3          7.55                   NaN  \n",
       "4                    0.3         55.55                   NaN  "
      ]
     },
     "execution_count": 4,
     "metadata": {},
     "output_type": "execute_result"
    }
   ],
   "source": [
    "df = pd.read_csv(\"data/nyc_2019-01.csv\", nrows=10)\n",
    "df.head()"
   ]
  },
  {
   "cell_type": "code",
   "execution_count": null,
   "metadata": {},
   "outputs": [],
   "source": [
    "j, chunksize = 1, 100000\n",
    "for month in range(1,2):\n",
    "    fp = \"data/nyc_2019-{0:0=2d}.csv\".format(month)\n",
    "    for df in pd.read_csv(fp, chunksize=chunksize, iterator=True):\n",
    "        df = df.rename(columns={c: c.replace(' ', '_') for c in df.columns})\n",
    "        df['pickup_hour'] = [x[11:13] for x in df['tpep_pickup_datetime']]\n",
    "        df['dropoff_hour'] = [x[11:13] for x in df['tpep_dropoff_datetime']]\n",
    "        df.index += j\n",
    "        df.to_sql('nyc_2019-'+str(month), nyc_database, if_exists='append')\n",
    "        j = df.index[-1] + 1\n",
    "del df"
   ]
  },
  {
   "cell_type": "code",
   "execution_count": 10,
   "metadata": {},
   "outputs": [
    {
     "data": {
      "text/plain": [
       "[('DeletionFlag', 'C', 1, 0),\n",
       " ['OBJECTID', 'N', 9, 0],\n",
       " ['Shape_Leng', 'F', 19, 11],\n",
       " ['Shape_Area', 'F', 19, 11],\n",
       " ['zone', 'C', 254, 0],\n",
       " ['LocationID', 'N', 4, 0],\n",
       " ['borough', 'C', 254, 0]]"
      ]
     },
     "execution_count": 10,
     "metadata": {},
     "output_type": "execute_result"
    }
   ],
   "source": [
    "sf = shapefile.Reader(\"data/shape/taxi_zones.shp\")\n",
    "sf.fields"
   ]
  },
  {
   "cell_type": "code",
   "execution_count": 11,
   "metadata": {},
   "outputs": [
    {
     "data": {
      "text/plain": [
       "{'OBJECTID': 0,\n",
       " 'Shape_Leng': 1,\n",
       " 'Shape_Area': 2,\n",
       " 'zone': 3,\n",
       " 'LocationID': 4,\n",
       " 'borough': 5}"
      ]
     },
     "execution_count": 11,
     "metadata": {},
     "output_type": "execute_result"
    }
   ],
   "source": [
    "fields_name = [field[0] for field in sf.fields[1:]]\n",
    "shp_dic = dict(zip(fields_name, list(range(len(fields_name)))))\n",
    "shp_dic"
   ]
  },
  {
   "cell_type": "code",
   "execution_count": 12,
   "metadata": {
    "collapsed": true
   },
   "outputs": [
    {
     "data": {
      "text/plain": [
       "[Record #0: [1, 0.116357453189, 0.0007823067885, 'Newark Airport', 1, 'EWR'],\n",
       " Record #1: [2, 0.43346966679, 0.00486634037837, 'Jamaica Bay', 2, 'Queens'],\n",
       " Record #2: [3, 0.0843411059012, 0.000314414156821, 'Allerton/Pelham Gardens', 3, 'Bronx'],\n",
       " Record #3: [4, 0.0435665270921, 0.000111871946192, 'Alphabet City', 4, 'Manhattan'],\n",
       " Record #4: [5, 0.0921464898574, 0.000497957489363, 'Arden Heights', 5, 'Staten Island'],\n",
       " Record #5: [6, 0.150490542523, 0.000606460984581, 'Arrochar/Fort Wadsworth', 6, 'Staten Island'],\n",
       " Record #6: [7, 0.107417171123, 0.000389787989274, 'Astoria', 7, 'Queens'],\n",
       " Record #7: [8, 0.0275906911574, 2.6587716279e-05, 'Astoria Park', 8, 'Queens'],\n",
       " Record #8: [9, 0.0997840924705, 0.000338443803197, 'Auburndale', 9, 'Queens'],\n",
       " Record #9: [10, 0.0998394794152, 0.000435823818081, 'Baisley Park', 10, 'Queens'],\n",
       " Record #10: [11, 0.0792110389596, 0.00026452053504, 'Bath Beach', 11, 'Brooklyn'],\n",
       " Record #11: [12, 0.0366613013579, 4.15116236727e-05, 'Battery Park', 12, 'Manhattan'],\n",
       " Record #12: [13, 0.0502813228631, 0.000149358592917, 'Battery Park City', 13, 'Manhattan'],\n",
       " Record #13: [14, 0.175213698053, 0.00138177826442, 'Bay Ridge', 14, 'Brooklyn'],\n",
       " Record #14: [15, 0.14433622262, 0.000925219395547, 'Bay Terrace/Fort Totten', 15, 'Queens'],\n",
       " Record #15: [16, 0.141291873771, 0.000871889446182, 'Bayside', 16, 'Queens'],\n",
       " Record #16: [17, 0.093522632948, 0.000322957654799, 'Bedford', 17, 'Brooklyn'],\n",
       " Record #17: [18, 0.0697995498569, 0.000148850163948, 'Bedford Park', 18, 'Bronx'],\n",
       " Record #18: [19, 0.101824875452, 0.000546661094782, 'Bellerose', 19, 'Queens'],\n",
       " Record #19: [20, 0.0514401924362, 0.000134512633032, 'Belmont', 20, 'Bronx'],\n",
       " Record #20: [21, 0.115973569062, 0.000380251345507, 'Bensonhurst East', 21, 'Brooklyn'],\n",
       " Record #21: [22, 0.126170229196, 0.000472062684608, 'Bensonhurst West', 22, 'Brooklyn'],\n",
       " Record #22: [23, 0.290556028962, 0.00219556576201, 'Bloomfield/Emerson Hill', 23, 'Staten Island'],\n",
       " Record #23: [24, 0.0469999619287, 6.07235737749e-05, 'Bloomingdale', 24, 'Manhattan'],\n",
       " Record #24: [25, 0.0471458199319, 0.000124168267356, 'Boerum Hill', 25, 'Brooklyn'],\n",
       " Record #25: [26, 0.12354780707, 0.000534039927626, 'Borough Park', 26, 'Brooklyn'],\n",
       " Record #26: [27, 0.202508808518, 0.00134088762746, 'Breezy Point/Fort Tilden/Riis Beach', 27, 'Queens'],\n",
       " Record #27: [28, 0.097960782214, 0.000291203927662, 'Briarwood/Jamaica Hills', 28, 'Queens'],\n",
       " Record #28: [29, 0.0714083127733, 0.000201673837402, 'Brighton Beach', 29, 'Brooklyn'],\n",
       " Record #29: [30, 0.0945097669793, 0.000145862107626, 'Broad Channel', 30, 'Queens'],\n",
       " Record #30: [31, 0.0964245666516, 0.000333975927329, 'Bronx Park', 31, 'Bronx'],\n",
       " Record #31: [32, 0.05426721601, 0.000150879171971, 'Bronxdale', 32, 'Bronx'],\n",
       " Record #32: [33, 0.0532702931967, 0.000147416802448, 'Brooklyn Heights', 33, 'Brooklyn'],\n",
       " Record #33: [34, 0.0657059323545, 0.000173946146651, 'Brooklyn Navy Yard', 34, 'Brooklyn'],\n",
       " Record #34: [35, 0.085787918592, 0.000323825195932, 'Brownsville', 35, 'Brooklyn'],\n",
       " Record #35: [36, 0.0870507867063, 0.000247666139269, 'Bushwick North', 36, 'Brooklyn'],\n",
       " Record #36: [37, 0.142810040466, 0.000452062644782, 'Bushwick South', 37, 'Brooklyn'],\n",
       " Record #37: [38, 0.0832175685234, 0.000327392684821, 'Cambria Heights', 38, 'Queens'],\n",
       " Record #38: [39, 0.132369620757, 0.00090028293862, 'Canarsie', 39, 'Brooklyn'],\n",
       " Record #39: [40, 0.0518506648762, 0.000108949211644, 'Carroll Gardens', 40, 'Brooklyn'],\n",
       " Record #40: [41, 0.052793109453, 0.000143093037737, 'Central Harlem', 41, 'Manhattan'],\n",
       " Record #41: [42, 0.0927092274616, 0.000263896952605, 'Central Harlem North', 42, 'Manhattan'],\n",
       " Record #42: [43, 0.0997386183576, 0.000379662912054, 'Central Park', 43, 'Manhattan'],\n",
       " Record #43: [44, 0.235688967594, 0.00194465649192, 'Charleston/Tottenville', 44, 'Staten Island'],\n",
       " Record #44: [45, 0.0459068626235, 9.13594688556e-05, 'Chinatown', 45, 'Manhattan'],\n",
       " Record #45: [46, 0.134475429879, 0.000926391677672, 'City Island', 46, 'Bronx'],\n",
       " Record #46: [47, 0.0898275563294, 0.000163198117339, 'Claremont/Bathgate', 47, 'Bronx'],\n",
       " Record #47: [48, 0.0437467441431, 9.42538425377e-05, 'Clinton East', 48, 'Manhattan'],\n",
       " Record #48: [49, 0.0752900183427, 0.000203185525471, 'Clinton Hill', 49, 'Brooklyn'],\n",
       " Record #49: [50, 0.0557479867536, 0.000173249283326, 'Clinton West', 50, 'Manhattan'],\n",
       " Record #50: [51, 0.0953613442277, 0.000395756553505, 'Co-Op City', 51, 'Bronx'],\n",
       " Record #51: [52, 0.0289076710093, 4.52027509603e-05, 'Cobble Hill', 52, 'Brooklyn'],\n",
       " Record #52: [53, 0.161500913385, 0.000947530980821, 'College Point', 53, 'Queens'],\n",
       " Record #53: [54, 0.0762192448554, 0.000132452130536, 'Columbia Street', 54, 'Brooklyn'],\n",
       " Record #54: [55, 0.149956807524, 0.000736274713586, 'Coney Island', 55, 'Brooklyn'],\n",
       " Record #55: [56, 0.0568478126677, 0.000180907844436, 'Corona', 56, 'Queens'],\n",
       " Record #56: [57, 0.0192705048557, 1.80259807917e-05, 'Corona', 56, 'Queens'],\n",
       " Record #57: [58, 0.0598554094851, 0.000204980931361, 'Country Club', 58, 'Bronx'],\n",
       " Record #58: [59, 0.0377948070893, 6.28765230648e-05, 'Crotona Park', 59, 'Bronx'],\n",
       " Record #59: [60, 0.0786482878226, 0.000161833284912, 'Crotona Park East', 60, 'Bronx'],\n",
       " Record #60: [61, 0.117310808097, 0.000510772092295, 'Crown Heights North', 61, 'Brooklyn'],\n",
       " Record #61: [62, 0.0822593359838, 0.000158238169004, 'Crown Heights South', 62, 'Brooklyn'],\n",
       " Record #62: [63, 0.119100721883, 0.000353190910142, 'Cypress Hills', 63, 'Brooklyn'],\n",
       " Record #63: [64, 0.18445188474, 0.00105790284614, 'Douglaston', 64, 'Queens'],\n",
       " Record #64: [65, 0.0446070683658, 8.1803882541e-05, 'Downtown Brooklyn/MetroTech', 65, 'Brooklyn'],\n",
       " Record #65: [66, 0.0546334593634, 0.000108378855948, 'DUMBO/Vinegar Hill', 66, 'Brooklyn'],\n",
       " Record #66: [67, 0.0997470781551, 0.000394282272487, 'Dyker Heights', 67, 'Brooklyn'],\n",
       " Record #67: [68, 0.0493373795569, 0.000111073378655, 'East Chelsea', 68, 'Manhattan'],\n",
       " Record #68: [69, 0.0789896450483, 0.00019905160381, 'East Concourse/Concourse Village', 69, 'Bronx'],\n",
       " Record #69: [70, 0.0638403183367, 0.000195458476728, 'East Elmhurst', 70, 'Queens'],\n",
       " Record #70: [71, 0.0931694551828, 0.000382572587364, 'East Flatbush/Farragut', 71, 'Brooklyn'],\n",
       " Record #71: [72, 0.0952020695166, 0.000323532461947, 'East Flatbush/Remsen Village', 72, 'Brooklyn'],\n",
       " Record #72: [73, 0.0853020209129, 0.000291799754395, 'East Flushing', 73, 'Queens'],\n",
       " Record #73: [74, 0.11029093625, 0.000295038418204, 'East Harlem North', 74, 'Manhattan'],\n",
       " Record #74: [75, 0.0876638997685, 0.00024056392715, 'East Harlem South', 75, 'Manhattan'],\n",
       " Record #75: [76, 0.241203016269, 0.00126660143241, 'East New York', 76, 'Brooklyn'],\n",
       " Record #76: [77, 0.075461081444, 0.000191917981315, 'East New York/Pennsylvania Avenue', 77, 'Brooklyn'],\n",
       " Record #77: [78, 0.0935944495806, 0.000191114419551, 'East Tremont', 78, 'Bronx'],\n",
       " Record #78: [79, 0.0426249113144, 0.000107893068218, 'East Village', 79, 'Manhattan'],\n",
       " Record #79: [80, 0.117212621448, 0.00040732245622, 'East Williamsburg', 80, 'Brooklyn'],\n",
       " Record #80: [81, 0.197592771731, 0.00039956655019, 'Eastchester', 81, 'Bronx'],\n",
       " Record #81: [82, 0.119875649697, 0.000323601079994, 'Elmhurst', 82, 'Queens'],\n",
       " Record #82: [83, 0.105984933269, 0.000217463718718, 'Elmhurst/Maspeth', 83, 'Queens'],\n",
       " Record #83: [84, 0.233623987032, 0.00207375572052, \"Eltingville/Annadale/Prince's Bay\", 84, 'Staten Island'],\n",
       " Record #84: [85, 0.0574751473562, 0.000143637804933, 'Erasmus', 85, 'Brooklyn'],\n",
       " Record #85: [86, 0.134245282582, 0.000623278815249, 'Far Rockaway', 86, 'Queens'],\n",
       " Record #86: [87, 0.0369015496117, 6.72050210692e-05, 'Financial District North', 87, 'Manhattan'],\n",
       " Record #87: [88, 0.0352046035327, 5.72999455414e-05, 'Financial District South', 88, 'Manhattan'],\n",
       " Record #88: [89, 0.122794569553, 0.000447548142373, 'Flatbush/Ditmas Park', 89, 'Brooklyn'],\n",
       " Record #89: [90, 0.0307591620819, 5.53132476305e-05, 'Flatiron', 90, 'Manhattan'],\n",
       " Record #90: [91, 0.124996624585, 0.000537330013243, 'Flatlands', 91, 'Brooklyn'],\n",
       " Record #91: [92, 0.117830066799, 0.000374946617289, 'Flushing', 92, 'Queens'],\n",
       " Record #92: [93, 0.170998027597, 0.000594278183978, 'Flushing Meadows-Corona Park', 93, 'Queens'],\n",
       " Record #93: [94, 0.0498326083147, 6.25819407393e-05, 'Fordham South', 94, 'Bronx'],\n",
       " Record #94: [95, 0.113629605476, 0.00057277033803, 'Forest Hills', 95, 'Queens'],\n",
       " Record #95: [96, 0.185180248095, 0.000547566253402, 'Forest Park/Highland Park', 96, 'Queens'],\n",
       " Record #96: [97, 0.0624760147423, 0.000163303970435, 'Fort Greene', 97, 'Brooklyn'],\n",
       " Record #97: [98, 0.121661018278, 0.000485773020954, 'Fresh Meadows', 98, 'Queens'],\n",
       " Record #98: [99, 0.1833714893, 0.00121016463877, 'Freshkills Park', 99, 'Staten Island'],\n",
       " Record #99: [100, 0.0248131090342, 3.74700210291e-05, 'Garment District', 100, 'Manhattan'],\n",
       " Record #100: [101, 0.101709836277, 0.000452342528877, 'Glen Oaks', 101, 'Queens'],\n",
       " Record #101: [102, 0.136900484646, 0.000296595466345, 'Glendale', 102, 'Queens'],\n",
       " Record #102: [103, 0.0143055167343, 6.33056361314e-06, \"Governor's Island/Ellis Island/Liberty Island\", 103, 'Manhattan'],\n",
       " Record #103: [104, 0.0212208330928, 1.19205339715e-05, \"Governor's Island/Ellis Island/Liberty Island\", 103, 'Manhattan'],\n",
       " Record #104: [105, 0.0774253398314, 0.000368636392805, \"Governor's Island/Ellis Island/Liberty Island\", 103, 'Manhattan'],\n",
       " Record #105: [106, 0.0492110119798, 0.000113616826567, 'Gowanus', 106, 'Brooklyn'],\n",
       " Record #106: [107, 0.0380413645908, 7.46112192675e-05, 'Gramercy', 107, 'Manhattan'],\n",
       " Record #107: [108, 0.11117141227, 0.000352866009465, 'Gravesend', 108, 'Brooklyn'],\n",
       " Record #108: [109, 0.178267819599, 0.00116960076185, 'Great Kills', 109, 'Staten Island'],\n",
       " Record #109: [110, 0.103946292913, 0.000525745098785, 'Great Kills Park', 110, 'Staten Island'],\n",
       " Record #110: [111, 0.0599308800658, 0.000208683276503, 'Green-Wood Cemetery', 111, 'Brooklyn'],\n",
       " Record #111: [112, 0.107267875765, 0.000462068671429, 'Greenpoint', 112, 'Brooklyn'],\n",
       " Record #112: [113, 0.032745350566, 5.79634566998e-05, 'Greenwich Village North', 113, 'Manhattan'],\n",
       " Record #113: [114, 0.0317270347711, 4.70207704945e-05, 'Greenwich Village South', 114, 'Manhattan'],\n",
       " Record #114: [115, 0.116169413964, 0.000373168991958, 'Grymes Hill/Clifton', 115, 'Staten Island'],\n",
       " Record #115: [116, 0.0681164844265, 0.000260415337217, 'Hamilton Heights', 116, 'Manhattan'],\n",
       " Record #116: [117, 0.169885857987, 0.00090429427072, 'Hammels/Arverne', 117, 'Queens'],\n",
       " Record #117: [118, 0.243966217692, 0.00182693922711, 'Heartland Village/Todt Hill', 118, 'Staten Island'],\n",
       " Record #118: [119, 0.0835070355744, 0.000185779447534, 'Highbridge', 119, 'Bronx'],\n",
       " Record #119: [120, 0.0832612702158, 9.31462821313e-05, 'Highbridge Park', 120, 'Manhattan'],\n",
       " Record #120: [121, 0.0969153373445, 0.000384563286473, 'Hillcrest/Pomonok', 121, 'Queens'],\n",
       " Record #121: [122, 0.0665318439446, 0.000226597104976, 'Hollis', 122, 'Queens'],\n",
       " Record #122: [123, 0.0834211389387, 0.000296445173366, 'Homecrest', 123, 'Brooklyn'],\n",
       " Record #123: [124, 0.127724410062, 0.000754837821479, 'Howard Beach', 124, 'Queens'],\n",
       " Record #124: [125, 0.0497322121757, 7.64293209892e-05, 'Hudson Sq', 125, 'Manhattan'],\n",
       " Record #125: [126, 0.12994872606, 0.0007032738273, 'Hunts Point', 126, 'Bronx'],\n",
       " Record #126: [127, 0.0600188855815, 0.000163195647796, 'Inwood', 127, 'Manhattan'],\n",
       " Record #127: [128, 0.0702090290681, 0.000207405982869, 'Inwood Hill Park', 128, 'Manhattan'],\n",
       " Record #128: [129, 0.0932727273403, 0.00047398833179, 'Jackson Heights', 129, 'Queens'],\n",
       " Record #129: [130, 0.142028320665, 0.000468322514327, 'Jamaica', 130, 'Queens'],\n",
       " Record #130: [131, 0.116547120922, 0.000423696152789, 'Jamaica Estates', 131, 'Queens'],\n",
       " Record #131: [132, 0.24547851707, 0.00203830095472, 'JFK Airport', 132, 'Queens'],\n",
       " Record #132: [133, 0.065134863162, 0.000157188987507, 'Kensington', 133, 'Brooklyn'],\n",
       " Record #133: [134, 0.0695878223284, 0.000202375182143, 'Kew Gardens', 134, 'Queens'],\n",
       " Record #134: [135, 0.121793045659, 0.000467912240542, 'Kew Gardens Hills', 135, 'Queens'],\n",
       " Record #135: [136, 0.0906287154122, 0.000148524994129, 'Kingsbridge Heights', 136, 'Bronx'],\n",
       " Record #136: [137, 0.0461076242707, 0.000116455098947, 'Kips Bay', 137, 'Manhattan'],\n",
       " Record #137: [138, 0.107466933508, 0.000536797294367, 'LaGuardia Airport', 138, 'Queens'],\n",
       " Record #138: [139, 0.0932997884483, 0.000446669880154, 'Laurelton', 139, 'Queens'],\n",
       " Record #139: [140, 0.0475842911325, 0.000114203907779, 'Lenox Hill East', 140, 'Manhattan'],\n",
       " Record #140: [141, 0.0415144638712, 7.66545579019e-05, 'Lenox Hill West', 141, 'Manhattan'],\n",
       " Record #141: [142, 0.0381758942321, 7.56537920738e-05, 'Lincoln Square East', 142, 'Manhattan'],\n",
       " Record #142: [143, 0.0541798538849, 0.00015109426901, 'Lincoln Square West', 143, 'Manhattan'],\n",
       " Record #143: [144, 0.0276201668505, 4.74789670369e-05, 'Little Italy/NoLiTa', 144, 'Manhattan'],\n",
       " Record #144: [145, 0.114313844981, 0.000346641733797, 'Long Island City/Hunters Point', 145, 'Queens'],\n",
       " Record #145: [146, 0.0471405215717, 0.000104638923425, 'Long Island City/Queens Plaza', 146, 'Queens'],\n",
       " Record #146: [147, 0.0587654949268, 0.000106418172757, 'Longwood', 147, 'Bronx'],\n",
       " Record #147: [148, 0.0391305015633, 6.97489921327e-05, 'Lower East Side', 148, 'Manhattan'],\n",
       " Record #148: [149, 0.0836805821837, 0.000270639618955, 'Madison', 149, 'Brooklyn'],\n",
       " Record #149: [150, 0.089331491183, 0.000332568036088, 'Manhattan Beach', 150, 'Brooklyn'],\n",
       " Record #150: [151, 0.0548899410999, 0.000128848901918, 'Manhattan Valley', 151, 'Manhattan'],\n",
       " Record #151: [152, 0.0579094768782, 0.000146637644064, 'Manhattanville', 152, 'Manhattan'],\n",
       " Record #152: [153, 0.024737239022, 3.24684964817e-05, 'Marble Hill', 153, 'Manhattan'],\n",
       " Record #153: [154, 0.22733157076, 0.00178968692433, 'Marine Park/Floyd Bennett Field', 154, 'Brooklyn'],\n",
       " Record #154: [155, 0.169808473032, 0.000868261018498, 'Marine Park/Mill Basin', 155, 'Brooklyn'],\n",
       " Record #155: [156, 0.144476890476, 0.0010521217443, 'Mariners Harbor', 156, 'Staten Island'],\n",
       " Record #156: [157, 0.131300217777, 0.000354370128323, 'Maspeth', 157, 'Queens'],\n",
       " Record #157: [158, 0.0548099905515, 0.000185568253002, 'Meatpacking/West Village West', 158, 'Manhattan'],\n",
       " Record #158: [159, 0.064363233206, 0.00017124910387, 'Melrose South', 159, 'Bronx'],\n",
       " Record #159: [160, 0.14151914297, 0.000571234977994, 'Middle Village', 160, 'Queens'],\n",
       " Record #160: [161, 0.0358039100611, 7.19130682992e-05, 'Midtown Center', 161, 'Manhattan'],\n",
       " Record #161: [162, 0.0352698146219, 4.78936962112e-05, 'Midtown East', 162, 'Manhattan'],\n",
       " Record #162: [163, 0.0341768669752, 4.08567804196e-05, 'Midtown North', 163, 'Manhattan'],\n",
       " Record #163: [164, 0.0357716119908, 5.56318237441e-05, 'Midtown South', 164, 'Manhattan'],\n",
       " Record #164: [165, 0.088608036213, 0.000353959317019, 'Midwood', 165, 'Brooklyn'],\n",
       " Record #165: [166, 0.0688237542871, 0.000255276270405, 'Morningside Heights', 166, 'Manhattan'],\n",
       " Record #166: [167, 0.0908159737292, 0.000167529391193, 'Morrisania/Melrose', 167, 'Bronx'],\n",
       " Record #167: [168, 0.114517434155, 0.000547058100444, 'Mott Haven/Port Morris', 168, 'Bronx'],\n",
       " Record #168: [169, 0.0601046580332, 0.000146027537733, 'Mount Hope', 169, 'Bronx'],\n",
       " Record #169: [170, 0.0457690091051, 7.43150675972e-05, 'Murray Hill', 170, 'Manhattan'],\n",
       " Record #170: [171, 0.107353876244, 0.000520099538161, 'Murray Hill-Queens', 171, 'Queens'],\n",
       " Record #171: [172, 0.118476116148, 0.000658402501406, 'New Dorp/Midland Beach', 172, 'Staten Island'],\n",
       " Record #172: [173, 0.0600639661414, 0.000178329851357, 'North Corona', 173, 'Queens'],\n",
       " Record #173: [174, 0.0678177559602, 0.000155928664422, 'Norwood', 174, 'Bronx'],\n",
       " Record #174: [175, 0.134897665102, 0.000504920726134, 'Oakland Gardens', 175, 'Queens'],\n",
       " Record #175: [176, 0.151995190703, 0.000657782126267, 'Oakwood', 176, 'Staten Island'],\n",
       " Record #176: [177, 0.0715805407056, 0.000198894762248, 'Ocean Hill', 177, 'Brooklyn'],\n",
       " Record #177: [178, 0.0682528770739, 0.000175805409143, 'Ocean Parkway South', 178, 'Brooklyn'],\n",
       " Record #178: [179, 0.0713808644377, 0.000183893478476, 'Old Astoria', 179, 'Queens'],\n",
       " Record #179: [180, 0.0805277671523, 0.000247682193353, 'Ozone Park', 180, 'Queens'],\n",
       " Record #180: [181, 0.0895372399547, 0.000306890292807, 'Park Slope', 181, 'Brooklyn'],\n",
       " Record #181: [182, 0.0393606369479, 9.10644156732e-05, 'Parkchester', 182, 'Bronx'],\n",
       " Record #182: [183, 0.0398262960348, 9.51929451066e-05, 'Pelham Bay', 183, 'Bronx'],\n",
       " Record #183: [184, 0.260815683043, 0.00198883363103, 'Pelham Bay Park', 184, 'Bronx'],\n",
       " Record #184: [185, 0.0861619681636, 0.000228537100218, 'Pelham Parkway', 185, 'Bronx'],\n",
       " Record #185: [186, 0.0246963902234, 3.70729416953e-05, 'Penn Station/Madison Sq West', 186, 'Manhattan'],\n",
       " Record #186: [187, 0.126868431324, 0.000421195755741, 'Port Richmond', 187, 'Staten Island'],\n",
       " Record #187: [188, 0.0977983968367, 0.000313003032771, 'Prospect-Lefferts Gardens', 188, 'Brooklyn'],\n",
       " Record #188: [189, 0.0486743306502, 0.000101427594033, 'Prospect Heights', 189, 'Brooklyn'],\n",
       " Record #189: [190, 0.0743294660829, 0.000270873666522, 'Prospect Park', 190, 'Brooklyn'],\n",
       " Record #190: [191, 0.130932637664, 0.000688460603185, 'Queens Village', 191, 'Queens'],\n",
       " Record #191: [192, 0.11196461971, 0.000373808019026, 'Queensboro Hill', 192, 'Queens'],\n",
       " Record #192: [193, 0.0655299584801, 0.000145591657944, 'Queensbridge/Ravenswood', 193, 'Queens'],\n",
       " Record #193: [194, 0.0817938353532, 0.000273481702719, 'Randalls Island', 194, 'Manhattan'],\n",
       " Record #194: [195, 0.131308244067, 0.000801651953985, 'Red Hook', 195, 'Brooklyn'],\n",
       " Record #195: [196, 0.0832421106332, 0.0001974713336, 'Rego Park', 196, 'Queens'],\n",
       " Record #196: [197, 0.108568532229, 0.000504689160432, 'Richmond Hill', 197, 'Queens'],\n",
       " Record #197: [198, 0.134094242763, 0.000499809882564, 'Ridgewood', 198, 'Queens'],\n",
       " Record #198: [199, 0.0778085005169, 0.000288747549303, 'Rikers Island', 199, 'Bronx'],\n",
       " Record #199: [200, 0.112661735435, 0.000744643168558, 'Riverdale/North Riverdale/Fieldston', 200, 'Bronx'],\n",
       " Record #200: [201, 0.130404117686, 0.000619350747819, 'Rockaway Park', 201, 'Queens'],\n",
       " Record #201: [202, 0.0699215712618, 0.000106175396322, 'Roosevelt Island', 202, 'Manhattan'],\n",
       " Record #202: [203, 0.189937815868, 0.000615129861659, 'Rosedale', 203, 'Queens'],\n",
       " Record #203: [204, 0.101912418311, 0.000641384265972, 'Rossville/Woodrow', 204, 'Staten Island'],\n",
       " Record #204: [205, 0.141953388327, 0.000766216513505, 'Saint Albans', 205, 'Queens'],\n",
       " Record #205: [206, 0.212756793386, 0.000944392507762, 'Saint George/New Brighton', 206, 'Staten Island'],\n",
       " Record #206: [207, 0.0283756831492, 4.47230848441e-05, 'Saint Michaels Cemetery/Woodside', 207, 'Queens'],\n",
       " Record #207: [208, 0.214721009581, 0.00202032598969, 'Schuylerville/Edgewater Park', 208, 'Bronx'],\n",
       " Record #208: [209, 0.0306953113473, 3.88703351209e-05, 'Seaport', 209, 'Manhattan'],\n",
       " Record #209: [210, 0.114851983372, 0.000453155131253, 'Sheepshead Bay', 210, 'Brooklyn'],\n",
       " Record #210: [211, 0.0252345082132, 3.97291966087e-05, 'SoHo', 211, 'Manhattan'],\n",
       " Record #211: [212, 0.0671290653429, 0.000161276191858, 'Soundview/Bruckner', 212, 'Bronx'],\n",
       " Record #212: [213, 0.159958783822, 0.000904077906339, 'Soundview/Castle Hill', 213, 'Bronx'],\n",
       " Record #213: [214, 0.135300314246, 0.000811976523012, 'South Beach/Dongan Hills', 214, 'Staten Island'],\n",
       " Record #214: [215, 0.103556453625, 0.000395647022725, 'South Jamaica', 215, 'Queens'],\n",
       " Record #215: [216, 0.116797554681, 0.000816076647781, 'South Ozone Park', 216, 'Queens'],\n",
       " Record #216: [217, 0.0553905251285, 0.000114733270758, 'South Williamsburg', 217, 'Brooklyn'],\n",
       " Record #217: [218, 0.0837008281049, 0.000281293736407, 'Springfield Gardens North', 218, 'Queens'],\n",
       " Record #218: [219, 0.155126669675, 0.000428176336771, 'Springfield Gardens South', 219, 'Queens'],\n",
       " Record #219: [220, 0.106015943267, 0.000313035744467, 'Spuyten Duyvil/Kingsbridge', 220, 'Bronx'],\n",
       " Record #220: [221, 0.166218220846, 0.000890111567051, 'Stapleton', 221, 'Staten Island'],\n",
       " Record #221: [222, 0.0483893527976, 0.000130268343918, 'Starrett City', 222, 'Brooklyn'],\n",
       " Record #222: [223, 0.166021925275, 0.00076436070058, 'Steinway', 223, 'Queens'],\n",
       " Record #223: [224, 0.0440204462769, 9.84786989135e-05, 'Stuy Town/Peter Cooper Village', 224, 'Manhattan'],\n",
       " Record #224: [225, 0.0887992073281, 0.000310835395162, 'Stuyvesant Heights', 225, 'Brooklyn'],\n",
       " Record #225: [226, 0.168957762041, 0.00076194414504, 'Sunnyside', 226, 'Queens'],\n",
       " Record #226: [227, 0.0828301570789, 0.000268316529534, 'Sunset Park East', 227, 'Brooklyn'],\n",
       " Record #227: [228, 0.177685177706, 0.000993414783816, 'Sunset Park West', 228, 'Brooklyn'],\n",
       " Record #228: [229, 0.0425252900116, 9.47058230931e-05, 'Sutton Place/Turtle Bay North', 229, 'Manhattan'],\n",
       " Record #229: [230, 0.0310283096779, 5.60914463266e-05, 'Times Sq/Theatre District', 230, 'Manhattan'],\n",
       " Record #230: [231, 0.0634201165587, 0.000166929752992, 'TriBeCa/Civic Center', 231, 'Manhattan'],\n",
       " Record #231: [232, 0.0614709085331, 0.000216049973456, 'Two Bridges/Seward Park', 232, 'Manhattan'],\n",
       " Record #232: [233, 0.048035918294, 0.000116188094682, 'UN/Turtle Bay South', 233, 'Manhattan'],\n",
       " Record #233: [234, 0.0360721994984, 7.31054382894e-05, 'Union Sq', 234, 'Manhattan'],\n",
       " Record #234: [235, 0.0761668426519, 0.000212844547337, 'University Heights/Morris Heights', 235, 'Bronx'],\n",
       " Record #235: [236, 0.0442519223099, 0.000102864345211, 'Upper East Side North', 236, 'Manhattan'],\n",
       " Record #236: [237, 0.0422126003388, 9.59873206621e-05, 'Upper East Side South', 237, 'Manhattan'],\n",
       " Record #237: [238, 0.0601093114033, 0.000184763693765, 'Upper West Side North', 238, 'Manhattan'],\n",
       " Record #238: [239, 0.0636261152958, 0.000204715440774, 'Upper West Side South', 239, 'Manhattan'],\n",
       " Record #239: [240, 0.146069764379, 0.000722130920707, 'Van Cortlandt Park', 240, 'Bronx'],\n",
       " Record #240: [241, 0.0687645777649, 0.00025467697592, 'Van Cortlandt Village', 241, 'Bronx'],\n",
       " Record #241: [242, 0.138136446433, 0.000360072450014, 'Van Nest/Morris Park', 242, 'Bronx'],\n",
       " Record #242: [243, 0.0943314999364, 0.000438377341503, 'Washington Heights North', 243, 'Manhattan'],\n",
       " Record #243: [244, 0.0805686044599, 0.000359702747951, 'Washington Heights South', 244, 'Manhattan'],\n",
       " Record #244: [245, 0.0959830596604, 0.000466175414294, 'West Brighton', 245, 'Staten Island'],\n",
       " Record #245: [246, 0.0694671937437, 0.000281298327076, 'West Chelsea/Hudson Yards', 246, 'Manhattan'],\n",
       " Record #246: [247, 0.0929678582271, 0.000205617157843, 'West Concourse', 247, 'Bronx'],\n",
       " Record #247: [248, 0.0569191167671, 0.000149592769799, 'West Farms/Bronx River', 248, 'Bronx'],\n",
       " Record #248: [249, 0.03638434365, 7.22155957729e-05, 'West Village', 249, 'Manhattan'],\n",
       " Record #249: [250, 0.0796263465454, 0.000240975845956, 'Westchester Village/Unionport', 250, 'Bronx'],\n",
       " Record #250: [251, 0.1377111611, 0.000625754983157, 'Westerleigh', 251, 'Staten Island'],\n",
       " Record #251: [252, 0.158004373564, 0.00102526406057, 'Whitestone', 252, 'Queens'],\n",
       " Record #252: [253, 0.0360514998192, 7.83395761191e-05, 'Willets Point', 253, 'Queens'],\n",
       " Record #253: [254, 0.0858863754861, 0.000360040216032, 'Williamsbridge/Olinville', 254, 'Bronx'],\n",
       " Record #254: [255, 0.0623841997664, 0.000172309184842, 'Williamsburg (North Side)', 255, 'Brooklyn'],\n",
       " Record #255: [256, 0.0679149669603, 0.000168611097013, 'Williamsburg (South Side)', 256, 'Brooklyn'],\n",
       " Record #256: [257, 0.0586690259793, 0.00013890947321, 'Windsor Terrace', 257, 'Brooklyn'],\n",
       " Record #257: [258, 0.0890133787693, 0.000366209617143, 'Woodhaven', 258, 'Queens'],\n",
       " Record #258: [259, 0.126750305191, 0.000394552487366, 'Woodlawn/Wakefield', 259, 'Bronx'],\n",
       " Record #259: [260, 0.133514154636, 0.000422345326907, 'Woodside', 260, 'Queens'],\n",
       " Record #260: [261, 0.0271204563616, 3.43423231652e-05, 'World Trade Center', 261, 'Manhattan'],\n",
       " Record #261: [262, 0.0490636231541, 0.000122330270966, 'Yorkville East', 262, 'Manhattan'],\n",
       " Record #262: [263, 0.0370166252994, 6.57697664169e-05, 'Yorkville West', 263, 'Manhattan']]"
      ]
     },
     "execution_count": 12,
     "metadata": {},
     "output_type": "execute_result"
    }
   ],
   "source": [
    "sf.records()"
   ]
  },
  {
   "cell_type": "code",
   "execution_count": null,
   "metadata": {},
   "outputs": [],
   "source": [
    "attributes = sf.records()\n",
    "shp_attr = [dict(zip(fields_name, attr)) for attr in attributes]"
   ]
  },
  {
   "cell_type": "code",
   "execution_count": 13,
   "metadata": {},
   "outputs": [
    {
     "data": {
      "text/html": [
       "<div>\n",
       "<style scoped>\n",
       "    .dataframe tbody tr th:only-of-type {\n",
       "        vertical-align: middle;\n",
       "    }\n",
       "\n",
       "    .dataframe tbody tr th {\n",
       "        vertical-align: top;\n",
       "    }\n",
       "\n",
       "    .dataframe thead th {\n",
       "        text-align: right;\n",
       "    }\n",
       "</style>\n",
       "<table border=\"1\" class=\"dataframe\">\n",
       "  <thead>\n",
       "    <tr style=\"text-align: right;\">\n",
       "      <th></th>\n",
       "      <th>OBJECTID</th>\n",
       "      <th>Shape_Leng</th>\n",
       "      <th>Shape_Area</th>\n",
       "      <th>zone</th>\n",
       "      <th>LocationID</th>\n",
       "      <th>borough</th>\n",
       "    </tr>\n",
       "  </thead>\n",
       "  <tbody>\n",
       "    <tr>\n",
       "      <td>0</td>\n",
       "      <td>1</td>\n",
       "      <td>0.116357</td>\n",
       "      <td>0.000782</td>\n",
       "      <td>Newark Airport</td>\n",
       "      <td>1</td>\n",
       "      <td>EWR</td>\n",
       "    </tr>\n",
       "    <tr>\n",
       "      <td>1</td>\n",
       "      <td>2</td>\n",
       "      <td>0.433470</td>\n",
       "      <td>0.004866</td>\n",
       "      <td>Jamaica Bay</td>\n",
       "      <td>2</td>\n",
       "      <td>Queens</td>\n",
       "    </tr>\n",
       "    <tr>\n",
       "      <td>2</td>\n",
       "      <td>3</td>\n",
       "      <td>0.084341</td>\n",
       "      <td>0.000314</td>\n",
       "      <td>Allerton/Pelham Gardens</td>\n",
       "      <td>3</td>\n",
       "      <td>Bronx</td>\n",
       "    </tr>\n",
       "    <tr>\n",
       "      <td>3</td>\n",
       "      <td>4</td>\n",
       "      <td>0.043567</td>\n",
       "      <td>0.000112</td>\n",
       "      <td>Alphabet City</td>\n",
       "      <td>4</td>\n",
       "      <td>Manhattan</td>\n",
       "    </tr>\n",
       "    <tr>\n",
       "      <td>4</td>\n",
       "      <td>5</td>\n",
       "      <td>0.092146</td>\n",
       "      <td>0.000498</td>\n",
       "      <td>Arden Heights</td>\n",
       "      <td>5</td>\n",
       "      <td>Staten Island</td>\n",
       "    </tr>\n",
       "  </tbody>\n",
       "</table>\n",
       "</div>"
      ],
      "text/plain": [
       "   OBJECTID  Shape_Leng  Shape_Area                     zone  LocationID  \\\n",
       "0         1    0.116357    0.000782           Newark Airport           1   \n",
       "1         2    0.433470    0.004866              Jamaica Bay           2   \n",
       "2         3    0.084341    0.000314  Allerton/Pelham Gardens           3   \n",
       "3         4    0.043567    0.000112            Alphabet City           4   \n",
       "4         5    0.092146    0.000498            Arden Heights           5   \n",
       "\n",
       "         borough  \n",
       "0            EWR  \n",
       "1         Queens  \n",
       "2          Bronx  \n",
       "3      Manhattan  \n",
       "4  Staten Island  "
      ]
     },
     "execution_count": 13,
     "metadata": {},
     "output_type": "execute_result"
    }
   ],
   "source": [
    "sf = shapefile.Reader(\"data/shape/taxi_zones.shp\")\n",
    "fields_name = [field[0] for field in sf.fields[1:]]\n",
    "shp_dic = dict(zip(fields_name, list(range(len(fields_name)))))\n",
    "attributes = sf.records()\n",
    "shp_attr = [dict(zip(fields_name, attr)) for attr in attributes]\n",
    "\n",
    "df_shp = pd.DataFrame(shp_attr)\n",
    "df_shp.head()"
   ]
  },
  {
   "cell_type": "code",
   "execution_count": 15,
   "metadata": {},
   "outputs": [
    {
     "data": {
      "text/html": [
       "<div>\n",
       "<style scoped>\n",
       "    .dataframe tbody tr th:only-of-type {\n",
       "        vertical-align: middle;\n",
       "    }\n",
       "\n",
       "    .dataframe tbody tr th {\n",
       "        vertical-align: top;\n",
       "    }\n",
       "\n",
       "    .dataframe thead th {\n",
       "        text-align: right;\n",
       "    }\n",
       "</style>\n",
       "<table border=\"1\" class=\"dataframe\">\n",
       "  <thead>\n",
       "    <tr style=\"text-align: right;\">\n",
       "      <th></th>\n",
       "      <th>Id</th>\n",
       "      <th>geometry</th>\n",
       "    </tr>\n",
       "  </thead>\n",
       "  <tbody>\n",
       "    <tr>\n",
       "      <td>0</td>\n",
       "      <td>90</td>\n",
       "      <td>POINT (-73.88896 40.89621)</td>\n",
       "    </tr>\n",
       "    <tr>\n",
       "      <td>1</td>\n",
       "      <td>95</td>\n",
       "      <td>POINT (-73.87165 40.88988)</td>\n",
       "    </tr>\n",
       "    <tr>\n",
       "      <td>2</td>\n",
       "      <td>81</td>\n",
       "      <td>POINT (-73.83864 40.88697)</td>\n",
       "    </tr>\n",
       "    <tr>\n",
       "      <td>3</td>\n",
       "      <td>69</td>\n",
       "      <td>POINT (-73.80980 40.87799)</td>\n",
       "    </tr>\n",
       "    <tr>\n",
       "      <td>4</td>\n",
       "      <td>8</td>\n",
       "      <td>POINT (-73.87831 40.86442)</td>\n",
       "    </tr>\n",
       "    <tr>\n",
       "      <td>...</td>\n",
       "      <td>...</td>\n",
       "      <td>...</td>\n",
       "    </tr>\n",
       "    <tr>\n",
       "      <td>91</td>\n",
       "      <td>75</td>\n",
       "      <td>POINT (-73.91683 40.89231)</td>\n",
       "    </tr>\n",
       "    <tr>\n",
       "      <td>92</td>\n",
       "      <td>86</td>\n",
       "      <td>POINT (-73.86497 40.65914)</td>\n",
       "    </tr>\n",
       "    <tr>\n",
       "      <td>93</td>\n",
       "      <td>97</td>\n",
       "      <td>POINT (-74.00743 40.72660)</td>\n",
       "    </tr>\n",
       "    <tr>\n",
       "      <td>94</td>\n",
       "      <td>96</td>\n",
       "      <td>POINT (-73.96628 40.70052)</td>\n",
       "    </tr>\n",
       "    <tr>\n",
       "      <td>95</td>\n",
       "      <td>96</td>\n",
       "      <td>POINT (-73.93440 40.55099)</td>\n",
       "    </tr>\n",
       "  </tbody>\n",
       "</table>\n",
       "<p>96 rows × 2 columns</p>\n",
       "</div>"
      ],
      "text/plain": [
       "    Id                    geometry\n",
       "0   90  POINT (-73.88896 40.89621)\n",
       "1   95  POINT (-73.87165 40.88988)\n",
       "2   81  POINT (-73.83864 40.88697)\n",
       "3   69  POINT (-73.80980 40.87799)\n",
       "4    8  POINT (-73.87831 40.86442)\n",
       "..  ..                         ...\n",
       "91  75  POINT (-73.91683 40.89231)\n",
       "92  86  POINT (-73.86497 40.65914)\n",
       "93  97  POINT (-74.00743 40.72660)\n",
       "94  96  POINT (-73.96628 40.70052)\n",
       "95  96  POINT (-73.93440 40.55099)\n",
       "\n",
       "[96 rows x 2 columns]"
      ]
     },
     "execution_count": 15,
     "metadata": {},
     "output_type": "execute_result"
    }
   ],
   "source": [
    "import geopandas as gpd\n",
    "latlong_df = gpd.read_file('data/NY-Places.geojson')\n",
    "latlong_df = latlong_df[[\"Id\", \"geometry\"]]\n",
    "latlong_df"
   ]
  },
  {
   "cell_type": "code",
   "execution_count": 23,
   "metadata": {},
   "outputs": [
    {
     "data": {
      "text/html": [
       "<div>\n",
       "<style scoped>\n",
       "    .dataframe tbody tr th:only-of-type {\n",
       "        vertical-align: middle;\n",
       "    }\n",
       "\n",
       "    .dataframe tbody tr th {\n",
       "        vertical-align: top;\n",
       "    }\n",
       "\n",
       "    .dataframe thead th {\n",
       "        text-align: right;\n",
       "    }\n",
       "</style>\n",
       "<table border=\"1\" class=\"dataframe\">\n",
       "  <thead>\n",
       "    <tr style=\"text-align: right;\">\n",
       "      <th></th>\n",
       "      <th>OBJECTID</th>\n",
       "      <th>Shape_Leng</th>\n",
       "      <th>Shape_Area</th>\n",
       "      <th>zone</th>\n",
       "      <th>LocationID</th>\n",
       "      <th>borough</th>\n",
       "      <th>Id</th>\n",
       "      <th>geometry</th>\n",
       "    </tr>\n",
       "  </thead>\n",
       "  <tbody>\n",
       "    <tr>\n",
       "      <td>0</td>\n",
       "      <td>1</td>\n",
       "      <td>0.116357</td>\n",
       "      <td>0.000782</td>\n",
       "      <td>Newark Airport</td>\n",
       "      <td>1</td>\n",
       "      <td>EWR</td>\n",
       "      <td>1</td>\n",
       "      <td>POINT (-73.74427 40.75366)</td>\n",
       "    </tr>\n",
       "    <tr>\n",
       "      <td>1</td>\n",
       "      <td>2</td>\n",
       "      <td>0.433470</td>\n",
       "      <td>0.004866</td>\n",
       "      <td>Jamaica Bay</td>\n",
       "      <td>2</td>\n",
       "      <td>Queens</td>\n",
       "      <td>2</td>\n",
       "      <td>POINT (-73.83062 40.67219)</td>\n",
       "    </tr>\n",
       "    <tr>\n",
       "      <td>2</td>\n",
       "      <td>3</td>\n",
       "      <td>0.084341</td>\n",
       "      <td>0.000314</td>\n",
       "      <td>Allerton/Pelham Gardens</td>\n",
       "      <td>3</td>\n",
       "      <td>Bronx</td>\n",
       "      <td>3</td>\n",
       "      <td>POINT (-73.92427 40.77679)</td>\n",
       "    </tr>\n",
       "    <tr>\n",
       "      <td>3</td>\n",
       "      <td>4</td>\n",
       "      <td>0.043567</td>\n",
       "      <td>0.000112</td>\n",
       "      <td>Alphabet City</td>\n",
       "      <td>4</td>\n",
       "      <td>Manhattan</td>\n",
       "      <td>4</td>\n",
       "      <td>POINT (-73.78692 40.67325)</td>\n",
       "    </tr>\n",
       "    <tr>\n",
       "      <td>4</td>\n",
       "      <td>5</td>\n",
       "      <td>0.092146</td>\n",
       "      <td>0.000498</td>\n",
       "      <td>Arden Heights</td>\n",
       "      <td>5</td>\n",
       "      <td>Staten Island</td>\n",
       "      <td>5</td>\n",
       "      <td>POINT (-73.85499 40.67729)</td>\n",
       "    </tr>\n",
       "    <tr>\n",
       "      <td>...</td>\n",
       "      <td>...</td>\n",
       "      <td>...</td>\n",
       "      <td>...</td>\n",
       "      <td>...</td>\n",
       "      <td>...</td>\n",
       "      <td>...</td>\n",
       "      <td>...</td>\n",
       "      <td>...</td>\n",
       "    </tr>\n",
       "    <tr>\n",
       "      <td>91</td>\n",
       "      <td>95</td>\n",
       "      <td>0.113630</td>\n",
       "      <td>0.000573</td>\n",
       "      <td>Forest Hills</td>\n",
       "      <td>95</td>\n",
       "      <td>Queens</td>\n",
       "      <td>95</td>\n",
       "      <td>POINT (-73.87165 40.88988)</td>\n",
       "    </tr>\n",
       "    <tr>\n",
       "      <td>92</td>\n",
       "      <td>96</td>\n",
       "      <td>0.185180</td>\n",
       "      <td>0.000548</td>\n",
       "      <td>Forest Park/Highland Park</td>\n",
       "      <td>96</td>\n",
       "      <td>Queens</td>\n",
       "      <td>96</td>\n",
       "      <td>POINT (-73.87524 40.84901)</td>\n",
       "    </tr>\n",
       "    <tr>\n",
       "      <td>93</td>\n",
       "      <td>96</td>\n",
       "      <td>0.185180</td>\n",
       "      <td>0.000548</td>\n",
       "      <td>Forest Park/Highland Park</td>\n",
       "      <td>96</td>\n",
       "      <td>Queens</td>\n",
       "      <td>96</td>\n",
       "      <td>POINT (-73.96628 40.70052)</td>\n",
       "    </tr>\n",
       "    <tr>\n",
       "      <td>94</td>\n",
       "      <td>96</td>\n",
       "      <td>0.185180</td>\n",
       "      <td>0.000548</td>\n",
       "      <td>Forest Park/Highland Park</td>\n",
       "      <td>96</td>\n",
       "      <td>Queens</td>\n",
       "      <td>96</td>\n",
       "      <td>POINT (-73.93440 40.55099)</td>\n",
       "    </tr>\n",
       "    <tr>\n",
       "      <td>95</td>\n",
       "      <td>97</td>\n",
       "      <td>0.062476</td>\n",
       "      <td>0.000163</td>\n",
       "      <td>Fort Greene</td>\n",
       "      <td>97</td>\n",
       "      <td>Brooklyn</td>\n",
       "      <td>97</td>\n",
       "      <td>POINT (-74.00743 40.72660)</td>\n",
       "    </tr>\n",
       "  </tbody>\n",
       "</table>\n",
       "<p>96 rows × 8 columns</p>\n",
       "</div>"
      ],
      "text/plain": [
       "    OBJECTID  Shape_Leng  Shape_Area                       zone  LocationID  \\\n",
       "0          1    0.116357    0.000782             Newark Airport           1   \n",
       "1          2    0.433470    0.004866                Jamaica Bay           2   \n",
       "2          3    0.084341    0.000314    Allerton/Pelham Gardens           3   \n",
       "3          4    0.043567    0.000112              Alphabet City           4   \n",
       "4          5    0.092146    0.000498              Arden Heights           5   \n",
       "..       ...         ...         ...                        ...         ...   \n",
       "91        95    0.113630    0.000573               Forest Hills          95   \n",
       "92        96    0.185180    0.000548  Forest Park/Highland Park          96   \n",
       "93        96    0.185180    0.000548  Forest Park/Highland Park          96   \n",
       "94        96    0.185180    0.000548  Forest Park/Highland Park          96   \n",
       "95        97    0.062476    0.000163                Fort Greene          97   \n",
       "\n",
       "          borough  Id                    geometry  \n",
       "0             EWR   1  POINT (-73.74427 40.75366)  \n",
       "1          Queens   2  POINT (-73.83062 40.67219)  \n",
       "2           Bronx   3  POINT (-73.92427 40.77679)  \n",
       "3       Manhattan   4  POINT (-73.78692 40.67325)  \n",
       "4   Staten Island   5  POINT (-73.85499 40.67729)  \n",
       "..            ...  ..                         ...  \n",
       "91         Queens  95  POINT (-73.87165 40.88988)  \n",
       "92         Queens  96  POINT (-73.87524 40.84901)  \n",
       "93         Queens  96  POINT (-73.96628 40.70052)  \n",
       "94         Queens  96  POINT (-73.93440 40.55099)  \n",
       "95       Brooklyn  97  POINT (-74.00743 40.72660)  \n",
       "\n",
       "[96 rows x 8 columns]"
      ]
     },
     "execution_count": 23,
     "metadata": {},
     "output_type": "execute_result"
    }
   ],
   "source": [
    "df_loc = pd.merge(df_shp, latlong_df, left_on='LocationID', right_on='Id')\n",
    "df_loc"
   ]
  },
  {
   "cell_type": "code",
   "execution_count": 24,
   "metadata": {},
   "outputs": [],
   "source": [
    "def draw_region_map(ax, sf, heat={}):\n",
    "    continent = [235/256, 151/256, 78/256]\n",
    "    ocean = (89/256, 171/256, 227/256)    \n",
    "    \n",
    "    reg_list={'Staten Island':1, 'Queens':2, 'Bronx':3, 'Manhattan':4, 'EWR':5, 'Brooklyn':6}\n",
    "    reg_x = {'Staten Island':[], 'Queens':[], 'Bronx':[], 'Manhattan':[], 'EWR':[], 'Brooklyn':[]}\n",
    "    reg_y = {'Staten Island':[], 'Queens':[], 'Bronx':[], 'Manhattan':[], 'EWR':[], 'Brooklyn':[]}\n",
    "    \n",
    "    # colorbar\n",
    "    if len(heat) != 0:\n",
    "        norm = mpl.colors.Normalize(vmin=math.sqrt(min(heat.values())), vmax=math.sqrt(max(heat.values()))) #norm = mpl.colors.LogNorm(vmin=1,vmax=max(heat))\n",
    "        cm=plt.get_cmap('Reds')\n",
    "        #sm = plt.cm.ScalarMappable(cmap=cm, norm=norm)\n",
    "        #sm.set_array([])\n",
    "        #plt.colorbar(sm, ticks=np.linspace(min(heat.values()),max(heat.values()),8), \\\n",
    "        #             boundaries=np.arange(min(heat.values())-10,max(heat.values())+10,.1))\n",
    "    \n",
    "    ax.set_facecolor(ocean)\n",
    "    for sr in sf.shapeRecords():\n",
    "        shape = sr.shape\n",
    "        rec = sr.record\n",
    "        reg_name = rec[shp_dic['borough']]\n",
    "        \n",
    "        if len(heat) == 0:\n",
    "            norm = mpl.colors.Normalize(vmin=1,vmax=6) #norm = mpl.colors.LogNorm(vmin=1,vmax=max(heat))\n",
    "            cm=plt.get_cmap('Pastel1')\n",
    "            R,G,B,A = cm(norm(reg_list[reg_name]))\n",
    "            col = [R,G,B]\n",
    "        else:\n",
    "            R,G,B,A = cm(norm(math.sqrt(heat[reg_name])))\n",
    "            col = [R,G,B]\n",
    "            \n",
    "        # check number of parts (could use MultiPolygon class of shapely?)\n",
    "        nparts = len(shape.parts) # total parts\n",
    "        if nparts == 1:\n",
    "            polygon = Polygon(shape.points)\n",
    "            patch = PolygonPatch(polygon, facecolor=col, alpha=1.0, zorder=2)\n",
    "            ax.add_patch(patch)\n",
    "        else: # loop over parts of each shape, plot separately\n",
    "            for ip in range(nparts): # loop over parts, plot separately\n",
    "                i0 = shape.parts[ip]\n",
    "                if ip < nparts-1:\n",
    "                    i1 = shape.parts[ip+1]-1\n",
    "                else:\n",
    "                    i1 = len(shape.points)\n",
    "\n",
    "                polygon = Polygon(shape.points[i0:i1+1])\n",
    "                patch = PolygonPatch(polygon, facecolor=col, alpha=1.0, zorder=2)\n",
    "                ax.add_patch(patch)\n",
    "                \n",
    "        reg_x[reg_name].append((shape.bbox[0]+shape.bbox[2])/2)\n",
    "        reg_y[reg_name].append((shape.bbox[1]+shape.bbox[3])/2)\n",
    "        \n",
    "    for k in reg_list:\n",
    "        if len(heat)==0:\n",
    "            plt.text(np.mean(reg_x[k]), np.mean(reg_y[k]), k, horizontalalignment='center', verticalalignment='center',\n",
    "                        bbox=dict(facecolor='black', alpha=0.5), color=\"white\", fontsize=12)     \n",
    "        else:\n",
    "            plt.text(np.mean(reg_x[k]), np.mean(reg_y[k]), \"{}\\n({}K)\".format(k, heat[k]/1000), horizontalalignment='center', \n",
    "                     verticalalignment='center',bbox=dict(facecolor='black', alpha=0.5), color=\"white\", fontsize=12)       \n",
    "\n",
    "    # display\n",
    "    limits = get_boundaries(sf)\n",
    "    plt.xlim(limits[0], limits[1])\n",
    "    plt.ylim(limits[2], limits[3])"
   ]
  },
  {
   "cell_type": "code",
   "execution_count": 25,
   "metadata": {},
   "outputs": [],
   "source": [
    "def get_boundaries(sf):\n",
    "    lat, lon = [], []\n",
    "    for shape in list(sf.iterShapes()):\n",
    "        lat.extend([shape.bbox[0], shape.bbox[2]])\n",
    "        lon.extend([shape.bbox[1], shape.bbox[3]])\n",
    "\n",
    "    margin = 0.01 # buffer to add to the range\n",
    "    lat_min = min(lat) - margin\n",
    "    lat_max = max(lat) + margin\n",
    "    lon_min = min(lon) - margin\n",
    "    lon_max = max(lon) + margin\n",
    "\n",
    "    return lat_min, lat_max, lon_min, lon_max"
   ]
  },
  {
   "cell_type": "code",
   "execution_count": 27,
   "metadata": {},
   "outputs": [],
   "source": [
    "def draw_zone_map(ax, sf, heat={}, text=[], arrows=[]):\n",
    "    continent = [235/256, 151/256, 78/256]\n",
    "    ocean = (89/256, 171/256, 227/256)\n",
    "    theta = np.linspace(0, 2*np.pi, len(text)+1).tolist()\n",
    "    ax.set_facecolor(ocean)\n",
    "    \n",
    "    # colorbar\n",
    "    if len(heat) != 0:\n",
    "        norm = mpl.colors.Normalize(vmin=min(heat.values()),vmax=max(heat.values())) #norm = mpl.colors.LogNorm(vmin=1,vmax=max(heat))\n",
    "        cm=plt.get_cmap('Reds')\n",
    "        sm = plt.cm.ScalarMappable(cmap=cm, norm=norm)\n",
    "        sm.set_array([])\n",
    "        plt.colorbar(sm, ticks=np.linspace(min(heat.values()),max(heat.values()),8),\n",
    "                     boundaries=np.arange(min(heat.values())-10,max(heat.values())+10,.1))\n",
    "    \n",
    "    for sr in sf.shapeRecords():\n",
    "        shape = sr.shape\n",
    "        rec = sr.record\n",
    "        loc_id = rec[shp_dic['LocationID']]\n",
    "        zone = rec[shp_dic['zone']]\n",
    "        \n",
    "        if len(heat) == 0:\n",
    "            col = continent\n",
    "        else:\n",
    "            if loc_id not in heat:\n",
    "                R,G,B,A = cm(norm(0))\n",
    "            else:\n",
    "                R,G,B,A = cm(norm(heat[loc_id]))\n",
    "            col = [R,G,B]\n",
    "\n",
    "        # check number of parts (could use MultiPolygon class of shapely?)\n",
    "        nparts = len(shape.parts) # total parts\n",
    "        if nparts == 1:\n",
    "            polygon = Polygon(shape.points)\n",
    "            patch = PolygonPatch(polygon, facecolor=col, alpha=1.0, zorder=2)\n",
    "            ax.add_patch(patch)\n",
    "        else: # loop over parts of each shape, plot separately\n",
    "            for ip in range(nparts): # loop over parts, plot separately\n",
    "                i0 = shape.parts[ip]\n",
    "                if ip < nparts-1:\n",
    "                    i1 = shape.parts[ip+1]-1\n",
    "                else:\n",
    "                    i1 = len(shape.points)\n",
    "\n",
    "                polygon = Polygon(shape.points[i0:i1+1])\n",
    "                patch = PolygonPatch(polygon, facecolor=col, alpha=1.0, zorder=2)\n",
    "                ax.add_patch(patch)\n",
    "        \n",
    "        x = (shape.bbox[0]+shape.bbox[2])/2\n",
    "        y = (shape.bbox[1]+shape.bbox[3])/2\n",
    "        if (len(text) == 0 and rec[shp_dic['Shape_Area']] > 0.0001):\n",
    "            plt.text(x, y, str(loc_id), horizontalalignment='center', verticalalignment='center')            \n",
    "        elif len(text) != 0 and loc_id in text:\n",
    "            #plt.text(x+0.01, y-0.01, str(loc_id), fontsize=12, color=\"white\", bbox=dict(facecolor='black', alpha=0.5))\n",
    "            eta_x = 0.05*np.cos(theta[text.index(loc_id)])\n",
    "            eta_y = 0.05*np.sin(theta[text.index(loc_id)])\n",
    "            ax.annotate(\"[{}] {}\".format(loc_id, zone), xy=(x, y), xytext=(x+eta_x, y+eta_y),\n",
    "                        bbox=dict(facecolor='black', alpha=0.5), color=\"white\", fontsize=12,\n",
    "                        arrowprops=dict(facecolor='black', width=3, shrink=0.05))\n",
    "    if len(arrows)!=0:\n",
    "        for arr in arrows:\n",
    "            ax.annotate('', xy = arr['dest'], xytext = arr['src'], size = arr['cnt'],\n",
    "                    arrowprops=dict(arrowstyle=\"fancy\", fc=\"0.6\", ec=\"none\"))\n",
    "    \n",
    "    # display\n",
    "    limits = get_boundaries(sf)\n",
    "    plt.xlim(limits[0], limits[1])\n",
    "    plt.ylim(limits[2], limits[3])"
   ]
  },
  {
   "cell_type": "code",
   "execution_count": 28,
   "metadata": {},
   "outputs": [
    {
     "data": {
      "image/png": "[encoded data removed]",
      "text/plain": [
       "<Figure size 1080x576 with 2 Axes>"
      ]
     },
     "metadata": {
      "needs_background": "light"
     },
     "output_type": "display_data"
    }
   ],
   "source": [
    "fig, ax = plt.subplots(nrows=1, ncols=2, figsize=(15,8))\n",
    "ax = plt.subplot(1, 2, 1)\n",
    "ax.set_title(\"Boroughs in NYC\")\n",
    "draw_region_map(ax, sf)\n",
    "ax = plt.subplot(1, 2, 2)\n",
    "ax.set_title(\"Zones in NYC\")\n",
    "draw_zone_map(ax, sf)"
   ]
  },
  {
   "cell_type": "code",
   "execution_count": 45,
   "metadata": {},
   "outputs": [
    {
     "data": {
      "application/vnd.plotly.v1+json": {
       "config": {
        "linkText": "Export to plot.ly",
        "plotlyServerURL": "https://plot.ly",
        "showLink": true
       },
       "data": [
        {
         "marker": {
          "color": "rgba(255, 153, 51, 0.6)",
          "line": {
           "color": "rgba(255, 153, 51, 1.0)",
           "width": 1
          }
         },
         "name": "PCount",
         "orientation": "v",
         "text": "",
         "type": "bar",
         "x": [
          0,
          1,
          2,
          3,
          4,
          5,
          6,
          7,
          8,
          9
         ],
         "y": [
          117381,
          5456121,
          1114106,
          314721,
          140753,
          323842,
          200811,
          19,
          29,
          9
         ]
        }
       ],
       "layout": {
        "legend": {
         "bgcolor": "#F5F6F9",
         "font": {
          "color": "#4D5663"
         }
        },
        "paper_bgcolor": "#F5F6F9",
        "plot_bgcolor": "#F5F6F9",
        "template": {
         "data": {
          "bar": [
           {
            "error_x": {
             "color": "#2a3f5f"
            },
            "error_y": {
             "color": "#2a3f5f"
            },
            "marker": {
             "line": {
              "color": "#E5ECF6",
              "width": 0.5
             }
            },
            "type": "bar"
           }
          ],
          "barpolar": [
           {
            "marker": {
             "line": {
              "color": "#E5ECF6",
              "width": 0.5
             }
            },
            "type": "barpolar"
           }
          ],
          "carpet": [
           {
            "aaxis": {
             "endlinecolor": "#2a3f5f",
             "gridcolor": "white",
             "linecolor": "white",
             "minorgridcolor": "white",
             "startlinecolor": "#2a3f5f"
            },
            "baxis": {
             "endlinecolor": "#2a3f5f",
             "gridcolor": "white",
             "linecolor": "white",
             "minorgridcolor": "white",
             "startlinecolor": "#2a3f5f"
            },
            "type": "carpet"
           }
          ],
          "choropleth": [
           {
            "colorbar": {
             "outlinewidth": 0,
             "ticks": ""
            },
            "type": "choropleth"
           }
          ],
          "contour": [
           {
            "colorbar": {
             "outlinewidth": 0,
             "ticks": ""
            },
            "colorscale": [
             [
              0,
              "#0d0887"
             ],
             [
              0.1111111111111111,
              "#46039f"
             ],
             [
              0.2222222222222222,
              "#7201a8"
             ],
             [
              0.3333333333333333,
              "#9c179e"
             ],
             [
              0.4444444444444444,
              "#bd3786"
             ],
             [
              0.5555555555555556,
              "#d8576b"
             ],
             [
              0.6666666666666666,
              "#ed7953"
             ],
             [
              0.7777777777777778,
              "#fb9f3a"
             ],
             [
              0.8888888888888888,
              "#fdca26"
             ],
             [
              1,
              "#f0f921"
             ]
            ],
            "type": "contour"
           }
          ],
          "contourcarpet": [
           {
            "colorbar": {
             "outlinewidth": 0,
             "ticks": ""
            },
            "type": "contourcarpet"
           }
          ],
          "heatmap": [
           {
            "colorbar": {
             "outlinewidth": 0,
             "ticks": ""
            },
            "colorscale": [
             [
              0,
              "#0d0887"
             ],
             [
              0.1111111111111111,
              "#46039f"
             ],
             [
              0.2222222222222222,
              "#7201a8"
             ],
             [
              0.3333333333333333,
              "#9c179e"
             ],
             [
              0.4444444444444444,
              "#bd3786"
             ],
             [
              0.5555555555555556,
              "#d8576b"
             ],
             [
              0.6666666666666666,
              "#ed7953"
             ],
             [
              0.7777777777777778,
              "#fb9f3a"
             ],
             [
              0.8888888888888888,
              "#fdca26"
             ],
             [
              1,
              "#f0f921"
             ]
            ],
            "type": "heatmap"
           }
          ],
          "heatmapgl": [
           {
            "colorbar": {
             "outlinewidth": 0,
             "ticks": ""
            },
            "colorscale": [
             [
              0,
              "#0d0887"
             ],
             [
              0.1111111111111111,
              "#46039f"
             ],
             [
              0.2222222222222222,
              "#7201a8"
             ],
             [
              0.3333333333333333,
              "#9c179e"
             ],
             [
              0.4444444444444444,
              "#bd3786"
             ],
             [
              0.5555555555555556,
              "#d8576b"
             ],
             [
              0.6666666666666666,
              "#ed7953"
             ],
             [
              0.7777777777777778,
              "#fb9f3a"
             ],
             [
              0.8888888888888888,
              "#fdca26"
             ],
             [
              1,
              "#f0f921"
             ]
            ],
            "type": "heatmapgl"
           }
          ],
          "histogram": [
           {
            "marker": {
             "colorbar": {
              "outlinewidth": 0,
              "ticks": ""
             }
            },
            "type": "histogram"
           }
          ],
          "histogram2d": [
           {
            "colorbar": {
             "outlinewidth": 0,
             "ticks": ""
            },
            "colorscale": [
             [
              0,
              "#0d0887"
             ],
             [
              0.1111111111111111,
              "#46039f"
             ],
             [
              0.2222222222222222,
              "#7201a8"
             ],
             [
              0.3333333333333333,
              "#9c179e"
             ],
             [
              0.4444444444444444,
              "#bd3786"
             ],
             [
              0.5555555555555556,
              "#d8576b"
             ],
             [
              0.6666666666666666,
              "#ed7953"
             ],
             [
              0.7777777777777778,
              "#fb9f3a"
             ],
             [
              0.8888888888888888,
              "#fdca26"
             ],
             [
              1,
              "#f0f921"
             ]
            ],
            "type": "histogram2d"
           }
          ],
          "histogram2dcontour": [
           {
            "colorbar": {
             "outlinewidth": 0,
             "ticks": ""
            },
            "colorscale": [
             [
              0,
              "#0d0887"
             ],
             [
              0.1111111111111111,
              "#46039f"
             ],
             [
              0.2222222222222222,
              "#7201a8"
             ],
             [
              0.3333333333333333,
              "#9c179e"
             ],
             [
              0.4444444444444444,
              "#bd3786"
             ],
             [
              0.5555555555555556,
              "#d8576b"
             ],
             [
              0.6666666666666666,
              "#ed7953"
             ],
             [
              0.7777777777777778,
              "#fb9f3a"
             ],
             [
              0.8888888888888888,
              "#fdca26"
             ],
             [
              1,
              "#f0f921"
             ]
            ],
            "type": "histogram2dcontour"
           }
          ],
          "mesh3d": [
           {
            "colorbar": {
             "outlinewidth": 0,
             "ticks": ""
            },
            "type": "mesh3d"
           }
          ],
          "parcoords": [
           {
            "line": {
             "colorbar": {
              "outlinewidth": 0,
              "ticks": ""
             }
            },
            "type": "parcoords"
           }
          ],
          "pie": [
           {
            "automargin": true,
            "type": "pie"
           }
          ],
          "scatter": [
           {
            "marker": {
             "colorbar": {
              "outlinewidth": 0,
              "ticks": ""
             }
            },
            "type": "scatter"
           }
          ],
          "scatter3d": [
           {
            "line": {
             "colorbar": {
              "outlinewidth": 0,
              "ticks": ""
             }
            },
            "marker": {
             "colorbar": {
              "outlinewidth": 0,
              "ticks": ""
             }
            },
            "type": "scatter3d"
           }
          ],
          "scattercarpet": [
           {
            "marker": {
             "colorbar": {
              "outlinewidth": 0,
              "ticks": ""
             }
            },
            "type": "scattercarpet"
           }
          ],
          "scattergeo": [
           {
            "marker": {
             "colorbar": {
              "outlinewidth": 0,
              "ticks": ""
             }
            },
            "type": "scattergeo"
           }
          ],
          "scattergl": [
           {
            "marker": {
             "colorbar": {
              "outlinewidth": 0,
              "ticks": ""
             }
            },
            "type": "scattergl"
           }
          ],
          "scattermapbox": [
           {
            "marker": {
             "colorbar": {
              "outlinewidth": 0,
              "ticks": ""
             }
            },
            "type": "scattermapbox"
           }
          ],
          "scatterpolar": [
           {
            "marker": {
             "colorbar": {
              "outlinewidth": 0,
              "ticks": ""
             }
            },
            "type": "scatterpolar"
           }
          ],
          "scatterpolargl": [
           {
            "marker": {
             "colorbar": {
              "outlinewidth": 0,
              "ticks": ""
             }
            },
            "type": "scatterpolargl"
           }
          ],
          "scatterternary": [
           {
            "marker": {
             "colorbar": {
              "outlinewidth": 0,
              "ticks": ""
             }
            },
            "type": "scatterternary"
           }
          ],
          "surface": [
           {
            "colorbar": {
             "outlinewidth": 0,
             "ticks": ""
            },
            "colorscale": [
             [
              0,
              "#0d0887"
             ],
             [
              0.1111111111111111,
              "#46039f"
             ],
             [
              0.2222222222222222,
              "#7201a8"
             ],
             [
              0.3333333333333333,
              "#9c179e"
             ],
             [
              0.4444444444444444,
              "#bd3786"
             ],
             [
              0.5555555555555556,
              "#d8576b"
             ],
             [
              0.6666666666666666,
              "#ed7953"
             ],
             [
              0.7777777777777778,
              "#fb9f3a"
             ],
             [
              0.8888888888888888,
              "#fdca26"
             ],
             [
              1,
              "#f0f921"
             ]
            ],
            "type": "surface"
           }
          ],
          "table": [
           {
            "cells": {
             "fill": {
              "color": "#EBF0F8"
             },
             "line": {
              "color": "white"
             }
            },
            "header": {
             "fill": {
              "color": "#C8D4E3"
             },
             "line": {
              "color": "white"
             }
            },
            "type": "table"
           }
          ]
         },
         "layout": {
          "annotationdefaults": {
           "arrowcolor": "#2a3f5f",
           "arrowhead": 0,
           "arrowwidth": 1
          },
          "coloraxis": {
           "colorbar": {
            "outlinewidth": 0,
            "ticks": ""
           }
          },
          "colorscale": {
           "diverging": [
            [
             0,
             "#8e0152"
            ],
            [
             0.1,
             "#c51b7d"
            ],
            [
             0.2,
             "#de77ae"
            ],
            [
             0.3,
             "#f1b6da"
            ],
            [
             0.4,
             "#fde0ef"
            ],
            [
             0.5,
             "#f7f7f7"
            ],
            [
             0.6,
             "#e6f5d0"
            ],
            [
             0.7,
             "#b8e186"
            ],
            [
             0.8,
             "#7fbc41"
            ],
            [
             0.9,
             "#4d9221"
            ],
            [
             1,
             "#276419"
            ]
           ],
           "sequential": [
            [
             0,
             "#0d0887"
            ],
            [
             0.1111111111111111,
             "#46039f"
            ],
            [
             0.2222222222222222,
             "#7201a8"
            ],
            [
             0.3333333333333333,
             "#9c179e"
            ],
            [
             0.4444444444444444,
             "#bd3786"
            ],
            [
             0.5555555555555556,
             "#d8576b"
            ],
            [
             0.6666666666666666,
             "#ed7953"
            ],
            [
             0.7777777777777778,
             "#fb9f3a"
            ],
            [
             0.8888888888888888,
             "#fdca26"
            ],
            [
             1,
             "#f0f921"
            ]
           ],
           "sequentialminus": [
            [
             0,
             "#0d0887"
            ],
            [
             0.1111111111111111,
             "#46039f"
            ],
            [
             0.2222222222222222,
             "#7201a8"
            ],
            [
             0.3333333333333333,
             "#9c179e"
            ],
            [
             0.4444444444444444,
             "#bd3786"
            ],
            [
             0.5555555555555556,
             "#d8576b"
            ],
            [
             0.6666666666666666,
             "#ed7953"
            ],
            [
             0.7777777777777778,
             "#fb9f3a"
            ],
            [
             0.8888888888888888,
             "#fdca26"
            ],
            [
             1,
             "#f0f921"
            ]
           ]
          },
          "colorway": [
           "#636efa",
           "#EF553B",
           "#00cc96",
           "#ab63fa",
           "#FFA15A",
           "#19d3f3",
           "#FF6692",
           "#B6E880",
           "#FF97FF",
           "#FECB52"
          ],
          "font": {
           "color": "#2a3f5f"
          },
          "geo": {
           "bgcolor": "white",
           "lakecolor": "white",
           "landcolor": "#E5ECF6",
           "showlakes": true,
           "showland": true,
           "subunitcolor": "white"
          },
          "hoverlabel": {
           "align": "left"
          },
          "hovermode": "closest",
          "mapbox": {
           "style": "light"
          },
          "paper_bgcolor": "white",
          "plot_bgcolor": "#E5ECF6",
          "polar": {
           "angularaxis": {
            "gridcolor": "white",
            "linecolor": "white",
            "ticks": ""
           },
           "bgcolor": "#E5ECF6",
           "radialaxis": {
            "gridcolor": "white",
            "linecolor": "white",
            "ticks": ""
           }
          },
          "scene": {
           "xaxis": {
            "backgroundcolor": "#E5ECF6",
            "gridcolor": "white",
            "gridwidth": 2,
            "linecolor": "white",
            "showbackground": true,
            "ticks": "",
            "zerolinecolor": "white"
           },
           "yaxis": {
            "backgroundcolor": "#E5ECF6",
            "gridcolor": "white",
            "gridwidth": 2,
            "linecolor": "white",
            "showbackground": true,
            "ticks": "",
            "zerolinecolor": "white"
           },
           "zaxis": {
            "backgroundcolor": "#E5ECF6",
            "gridcolor": "white",
            "gridwidth": 2,
            "linecolor": "white",
            "showbackground": true,
            "ticks": "",
            "zerolinecolor": "white"
           }
          },
          "shapedefaults": {
           "line": {
            "color": "#2a3f5f"
           }
          },
          "ternary": {
           "aaxis": {
            "gridcolor": "white",
            "linecolor": "white",
            "ticks": ""
           },
           "baxis": {
            "gridcolor": "white",
            "linecolor": "white",
            "ticks": ""
           },
           "bgcolor": "#E5ECF6",
           "caxis": {
            "gridcolor": "white",
            "linecolor": "white",
            "ticks": ""
           }
          },
          "title": {
           "x": 0.05
          },
          "xaxis": {
           "automargin": true,
           "gridcolor": "white",
           "linecolor": "white",
           "ticks": "",
           "title": {
            "standoff": 15
           },
           "zerolinecolor": "white",
           "zerolinewidth": 2
          },
          "yaxis": {
           "automargin": true,
           "gridcolor": "white",
           "linecolor": "white",
           "ticks": "",
           "title": {
            "standoff": 15
           },
           "zerolinecolor": "white",
           "zerolinewidth": 2
          }
         }
        },
        "title": {
         "font": {
          "color": "#4D5663"
         },
         "text": "Distribution of Passenger count during a trip"
        },
        "xaxis": {
         "gridcolor": "#E1E5ED",
         "showgrid": true,
         "tickfont": {
          "color": "#4D5663"
         },
         "title": {
          "font": {
           "color": "#4D5663"
          },
          "text": "Passenger count"
         },
         "zerolinecolor": "#E1E5ED"
        },
        "yaxis": {
         "gridcolor": "#E1E5ED",
         "showgrid": true,
         "tickfont": {
          "color": "#4D5663"
         },
         "title": {
          "font": {
           "color": "#4D5663"
          },
          "text": "Count"
         },
         "zerolinecolor": "#E1E5ED"
        }
       }
      },
      "text/html": [
       "<div>\n",
       "        \n",
       "        \n",
       "            <div id=\"8f7936eb-a2d5-4720-92f0-09acdf63e461\" class=\"plotly-graph-div\" style=\"height:525px; width:100%;\"></div>\n",
       "            <script type=\"text/javascript\">\n",
       "                require([\"plotly\"], function(Plotly) {\n",
       "                    window.PLOTLYENV=window.PLOTLYENV || {};\n",
       "                    window.PLOTLYENV.BASE_URL='https://plot.ly';\n",
       "                    \n",
       "                if (document.getElementById(\"8f7936eb-a2d5-4720-92f0-09acdf63e461\")) {\n",
       "                    Plotly.newPlot(\n",
       "                        '8f7936eb-a2d5-4720-92f0-09acdf63e461',\n",
       "                        [{\"marker\": {\"color\": \"rgba(255, 153, 51, 0.6)\", \"line\": {\"color\": \"rgba(255, 153, 51, 1.0)\", \"width\": 1}}, \"name\": \"PCount\", \"orientation\": \"v\", \"text\": \"\", \"type\": \"bar\", \"x\": [0, 1, 2, 3, 4, 5, 6, 7, 8, 9], \"y\": [117381, 5456121, 1114106, 314721, 140753, 323842, 200811, 19, 29, 9]}],\n",
       "                        {\"legend\": {\"bgcolor\": \"#F5F6F9\", \"font\": {\"color\": \"#4D5663\"}}, \"paper_bgcolor\": \"#F5F6F9\", \"plot_bgcolor\": \"#F5F6F9\", \"template\": {\"data\": {\"bar\": [{\"error_x\": {\"color\": \"#2a3f5f\"}, \"error_y\": {\"color\": \"#2a3f5f\"}, \"marker\": {\"line\": {\"color\": \"#E5ECF6\", \"width\": 0.5}}, \"type\": \"bar\"}], \"barpolar\": [{\"marker\": {\"line\": {\"color\": \"#E5ECF6\", \"width\": 0.5}}, \"type\": \"barpolar\"}], \"carpet\": [{\"aaxis\": {\"endlinecolor\": \"#2a3f5f\", \"gridcolor\": \"white\", \"linecolor\": \"white\", \"minorgridcolor\": \"white\", \"startlinecolor\": \"#2a3f5f\"}, \"baxis\": {\"endlinecolor\": \"#2a3f5f\", \"gridcolor\": \"white\", \"linecolor\": \"white\", \"minorgridcolor\": \"white\", \"startlinecolor\": \"#2a3f5f\"}, \"type\": \"carpet\"}], \"choropleth\": [{\"colorbar\": {\"outlinewidth\": 0, \"ticks\": \"\"}, \"type\": \"choropleth\"}], \"contour\": [{\"colorbar\": {\"outlinewidth\": 0, \"ticks\": \"\"}, \"colorscale\": [[0.0, \"#0d0887\"], [0.1111111111111111, \"#46039f\"], [0.2222222222222222, \"#7201a8\"], [0.3333333333333333, \"#9c179e\"], [0.4444444444444444, \"#bd3786\"], [0.5555555555555556, \"#d8576b\"], [0.6666666666666666, \"#ed7953\"], [0.7777777777777778, \"#fb9f3a\"], [0.8888888888888888, \"#fdca26\"], [1.0, \"#f0f921\"]], \"type\": \"contour\"}], \"contourcarpet\": [{\"colorbar\": {\"outlinewidth\": 0, \"ticks\": \"\"}, \"type\": \"contourcarpet\"}], \"heatmap\": [{\"colorbar\": {\"outlinewidth\": 0, \"ticks\": \"\"}, \"colorscale\": [[0.0, \"#0d0887\"], [0.1111111111111111, \"#46039f\"], [0.2222222222222222, \"#7201a8\"], [0.3333333333333333, \"#9c179e\"], [0.4444444444444444, \"#bd3786\"], [0.5555555555555556, \"#d8576b\"], [0.6666666666666666, \"#ed7953\"], [0.7777777777777778, \"#fb9f3a\"], [0.8888888888888888, \"#fdca26\"], [1.0, \"#f0f921\"]], \"type\": \"heatmap\"}], \"heatmapgl\": [{\"colorbar\": {\"outlinewidth\": 0, \"ticks\": \"\"}, \"colorscale\": [[0.0, \"#0d0887\"], [0.1111111111111111, \"#46039f\"], [0.2222222222222222, \"#7201a8\"], [0.3333333333333333, \"#9c179e\"], [0.4444444444444444, \"#bd3786\"], [0.5555555555555556, \"#d8576b\"], [0.6666666666666666, \"#ed7953\"], [0.7777777777777778, \"#fb9f3a\"], [0.8888888888888888, \"#fdca26\"], [1.0, \"#f0f921\"]], \"type\": \"heatmapgl\"}], \"histogram\": [{\"marker\": {\"colorbar\": {\"outlinewidth\": 0, \"ticks\": \"\"}}, \"type\": \"histogram\"}], \"histogram2d\": [{\"colorbar\": {\"outlinewidth\": 0, \"ticks\": \"\"}, \"colorscale\": [[0.0, \"#0d0887\"], [0.1111111111111111, \"#46039f\"], [0.2222222222222222, \"#7201a8\"], [0.3333333333333333, \"#9c179e\"], [0.4444444444444444, \"#bd3786\"], [0.5555555555555556, \"#d8576b\"], [0.6666666666666666, \"#ed7953\"], [0.7777777777777778, \"#fb9f3a\"], [0.8888888888888888, \"#fdca26\"], [1.0, \"#f0f921\"]], \"type\": \"histogram2d\"}], \"histogram2dcontour\": [{\"colorbar\": {\"outlinewidth\": 0, \"ticks\": \"\"}, \"colorscale\": [[0.0, \"#0d0887\"], [0.1111111111111111, \"#46039f\"], [0.2222222222222222, \"#7201a8\"], [0.3333333333333333, \"#9c179e\"], [0.4444444444444444, \"#bd3786\"], [0.5555555555555556, \"#d8576b\"], [0.6666666666666666, \"#ed7953\"], [0.7777777777777778, \"#fb9f3a\"], [0.8888888888888888, \"#fdca26\"], [1.0, \"#f0f921\"]], \"type\": \"histogram2dcontour\"}], \"mesh3d\": [{\"colorbar\": {\"outlinewidth\": 0, \"ticks\": \"\"}, \"type\": \"mesh3d\"}], \"parcoords\": [{\"line\": {\"colorbar\": {\"outlinewidth\": 0, \"ticks\": \"\"}}, \"type\": \"parcoords\"}], \"pie\": [{\"automargin\": true, \"type\": \"pie\"}], \"scatter\": [{\"marker\": {\"colorbar\": {\"outlinewidth\": 0, \"ticks\": \"\"}}, \"type\": \"scatter\"}], \"scatter3d\": [{\"line\": {\"colorbar\": {\"outlinewidth\": 0, \"ticks\": \"\"}}, \"marker\": {\"colorbar\": {\"outlinewidth\": 0, \"ticks\": \"\"}}, \"type\": \"scatter3d\"}], \"scattercarpet\": [{\"marker\": {\"colorbar\": {\"outlinewidth\": 0, \"ticks\": \"\"}}, \"type\": \"scattercarpet\"}], \"scattergeo\": [{\"marker\": {\"colorbar\": {\"outlinewidth\": 0, \"ticks\": \"\"}}, \"type\": \"scattergeo\"}], \"scattergl\": [{\"marker\": {\"colorbar\": {\"outlinewidth\": 0, \"ticks\": \"\"}}, \"type\": \"scattergl\"}], \"scattermapbox\": [{\"marker\": {\"colorbar\": {\"outlinewidth\": 0, \"ticks\": \"\"}}, \"type\": \"scattermapbox\"}], \"scatterpolar\": [{\"marker\": {\"colorbar\": {\"outlinewidth\": 0, \"ticks\": \"\"}}, \"type\": \"scatterpolar\"}], \"scatterpolargl\": [{\"marker\": {\"colorbar\": {\"outlinewidth\": 0, \"ticks\": \"\"}}, \"type\": \"scatterpolargl\"}], \"scatterternary\": [{\"marker\": {\"colorbar\": {\"outlinewidth\": 0, \"ticks\": \"\"}}, \"type\": \"scatterternary\"}], \"surface\": [{\"colorbar\": {\"outlinewidth\": 0, \"ticks\": \"\"}, \"colorscale\": [[0.0, \"#0d0887\"], [0.1111111111111111, \"#46039f\"], [0.2222222222222222, \"#7201a8\"], [0.3333333333333333, \"#9c179e\"], [0.4444444444444444, \"#bd3786\"], [0.5555555555555556, \"#d8576b\"], [0.6666666666666666, \"#ed7953\"], [0.7777777777777778, \"#fb9f3a\"], [0.8888888888888888, \"#fdca26\"], [1.0, \"#f0f921\"]], \"type\": \"surface\"}], \"table\": [{\"cells\": {\"fill\": {\"color\": \"#EBF0F8\"}, \"line\": {\"color\": \"white\"}}, \"header\": {\"fill\": {\"color\": \"#C8D4E3\"}, \"line\": {\"color\": \"white\"}}, \"type\": \"table\"}]}, \"layout\": {\"annotationdefaults\": {\"arrowcolor\": \"#2a3f5f\", \"arrowhead\": 0, \"arrowwidth\": 1}, \"coloraxis\": {\"colorbar\": {\"outlinewidth\": 0, \"ticks\": \"\"}}, \"colorscale\": {\"diverging\": [[0, \"#8e0152\"], [0.1, \"#c51b7d\"], [0.2, \"#de77ae\"], [0.3, \"#f1b6da\"], [0.4, \"#fde0ef\"], [0.5, \"#f7f7f7\"], [0.6, \"#e6f5d0\"], [0.7, \"#b8e186\"], [0.8, \"#7fbc41\"], [0.9, \"#4d9221\"], [1, \"#276419\"]], \"sequential\": [[0.0, \"#0d0887\"], [0.1111111111111111, \"#46039f\"], [0.2222222222222222, \"#7201a8\"], [0.3333333333333333, \"#9c179e\"], [0.4444444444444444, \"#bd3786\"], [0.5555555555555556, \"#d8576b\"], [0.6666666666666666, \"#ed7953\"], [0.7777777777777778, \"#fb9f3a\"], [0.8888888888888888, \"#fdca26\"], [1.0, \"#f0f921\"]], \"sequentialminus\": [[0.0, \"#0d0887\"], [0.1111111111111111, \"#46039f\"], [0.2222222222222222, \"#7201a8\"], [0.3333333333333333, \"#9c179e\"], [0.4444444444444444, \"#bd3786\"], [0.5555555555555556, \"#d8576b\"], [0.6666666666666666, \"#ed7953\"], [0.7777777777777778, \"#fb9f3a\"], [0.8888888888888888, \"#fdca26\"], [1.0, \"#f0f921\"]]}, \"colorway\": [\"#636efa\", \"#EF553B\", \"#00cc96\", \"#ab63fa\", \"#FFA15A\", \"#19d3f3\", \"#FF6692\", \"#B6E880\", \"#FF97FF\", \"#FECB52\"], \"font\": {\"color\": \"#2a3f5f\"}, \"geo\": {\"bgcolor\": \"white\", \"lakecolor\": \"white\", \"landcolor\": \"#E5ECF6\", \"showlakes\": true, \"showland\": true, \"subunitcolor\": \"white\"}, \"hoverlabel\": {\"align\": \"left\"}, \"hovermode\": \"closest\", \"mapbox\": {\"style\": \"light\"}, \"paper_bgcolor\": \"white\", \"plot_bgcolor\": \"#E5ECF6\", \"polar\": {\"angularaxis\": {\"gridcolor\": \"white\", \"linecolor\": \"white\", \"ticks\": \"\"}, \"bgcolor\": \"#E5ECF6\", \"radialaxis\": {\"gridcolor\": \"white\", \"linecolor\": \"white\", \"ticks\": \"\"}}, \"scene\": {\"xaxis\": {\"backgroundcolor\": \"#E5ECF6\", \"gridcolor\": \"white\", \"gridwidth\": 2, \"linecolor\": \"white\", \"showbackground\": true, \"ticks\": \"\", \"zerolinecolor\": \"white\"}, \"yaxis\": {\"backgroundcolor\": \"#E5ECF6\", \"gridcolor\": \"white\", \"gridwidth\": 2, \"linecolor\": \"white\", \"showbackground\": true, \"ticks\": \"\", \"zerolinecolor\": \"white\"}, \"zaxis\": {\"backgroundcolor\": \"#E5ECF6\", \"gridcolor\": \"white\", \"gridwidth\": 2, \"linecolor\": \"white\", \"showbackground\": true, \"ticks\": \"\", \"zerolinecolor\": \"white\"}}, \"shapedefaults\": {\"line\": {\"color\": \"#2a3f5f\"}}, \"ternary\": {\"aaxis\": {\"gridcolor\": \"white\", \"linecolor\": \"white\", \"ticks\": \"\"}, \"baxis\": {\"gridcolor\": \"white\", \"linecolor\": \"white\", \"ticks\": \"\"}, \"bgcolor\": \"#E5ECF6\", \"caxis\": {\"gridcolor\": \"white\", \"linecolor\": \"white\", \"ticks\": \"\"}}, \"title\": {\"x\": 0.05}, \"xaxis\": {\"automargin\": true, \"gridcolor\": \"white\", \"linecolor\": \"white\", \"ticks\": \"\", \"title\": {\"standoff\": 15}, \"zerolinecolor\": \"white\", \"zerolinewidth\": 2}, \"yaxis\": {\"automargin\": true, \"gridcolor\": \"white\", \"linecolor\": \"white\", \"ticks\": \"\", \"title\": {\"standoff\": 15}, \"zerolinecolor\": \"white\", \"zerolinewidth\": 2}}}, \"title\": {\"font\": {\"color\": \"#4D5663\"}, \"text\": \"Distribution of Passenger count during a trip\"}, \"xaxis\": {\"gridcolor\": \"#E1E5ED\", \"showgrid\": true, \"tickfont\": {\"color\": \"#4D5663\"}, \"title\": {\"font\": {\"color\": \"#4D5663\"}, \"text\": \"Passenger count\"}, \"zerolinecolor\": \"#E1E5ED\"}, \"yaxis\": {\"gridcolor\": \"#E1E5ED\", \"showgrid\": true, \"tickfont\": {\"color\": \"#4D5663\"}, \"title\": {\"font\": {\"color\": \"#4D5663\"}, \"text\": \"Count\"}, \"zerolinecolor\": \"#E1E5ED\"}},\n",
       "                        {\"showLink\": true, \"linkText\": \"Export to plot.ly\", \"plotlyServerURL\": \"https://plot.ly\", \"responsive\": true}\n",
       "                    ).then(function(){\n",
       "                            \n",
       "var gd = document.getElementById('8f7936eb-a2d5-4720-92f0-09acdf63e461');\n",
       "var x = new MutationObserver(function (mutations, observer) {{\n",
       "        var display = window.getComputedStyle(gd).display;\n",
       "        if (!display || display === 'none') {{\n",
       "            console.log([gd, 'removed!']);\n",
       "            Plotly.purge(gd);\n",
       "            observer.disconnect();\n",
       "        }}\n",
       "}});\n",
       "\n",
       "// Listen for the removal of the full notebook cells\n",
       "var notebookContainer = gd.closest('#notebook-container');\n",
       "if (notebookContainer) {{\n",
       "    x.observe(notebookContainer, {childList: true});\n",
       "}}\n",
       "\n",
       "// Listen for the clearing of the current output cell\n",
       "var outputEl = gd.closest('.output');\n",
       "if (outputEl) {{\n",
       "    x.observe(outputEl, {childList: true});\n",
       "}}\n",
       "\n",
       "                        })\n",
       "                };\n",
       "                });\n",
       "            </script>\n",
       "        </div>"
      ]
     },
     "metadata": {},
     "output_type": "display_data"
    }
   ],
   "source": [
    "# Distribution of Passenger count during a trip\n",
    "passenger_count = pd.read_sql_query('SELECT passenger_count AS Passenger, count(*) AS PCount FROM `nyc.2019-01` \\\n",
    "                        GROUP BY passenger_count', nyc_database)\n",
    "passenger_count[\"Passenger\"] = pd.factorize(passenger_count[\"Passenger\"])[0]\n",
    "\n",
    "passenger_count.iplot(x=\"Passenger\", kind=\"bar\", title=\"Distribution of Passenger count during a trip\",\n",
    "                      xTitle='Passenger count', yTitle='Count')"
   ]
  },
  {
   "cell_type": "code",
   "execution_count": 48,
   "metadata": {},
   "outputs": [
    {
     "data": {
      "application/vnd.plotly.v1+json": {
       "config": {
        "linkText": "Export to plot.ly",
        "plotlyServerURL": "https://plot.ly",
        "showLink": true
       },
       "data": [
        {
         "marker": {
          "color": "rgba(255, 153, 51, 0.6)",
          "line": {
           "color": "rgba(255, 153, 51, 1.0)",
           "width": 1
          }
         },
         "name": "Count",
         "orientation": "v",
         "text": "",
         "type": "bar",
         "x": [
          1,
          2,
          3,
          4
         ],
         "y": [
          5486027,
          2137415,
          33186,
          11164
         ]
        }
       ],
       "layout": {
        "legend": {
         "bgcolor": "#F5F6F9",
         "font": {
          "color": "#4D5663"
         }
        },
        "paper_bgcolor": "#F5F6F9",
        "plot_bgcolor": "#F5F6F9",
        "template": {
         "data": {
          "bar": [
           {
            "error_x": {
             "color": "#2a3f5f"
            },
            "error_y": {
             "color": "#2a3f5f"
            },
            "marker": {
             "line": {
              "color": "#E5ECF6",
              "width": 0.5
             }
            },
            "type": "bar"
           }
          ],
          "barpolar": [
           {
            "marker": {
             "line": {
              "color": "#E5ECF6",
              "width": 0.5
             }
            },
            "type": "barpolar"
           }
          ],
          "carpet": [
           {
            "aaxis": {
             "endlinecolor": "#2a3f5f",
             "gridcolor": "white",
             "linecolor": "white",
             "minorgridcolor": "white",
             "startlinecolor": "#2a3f5f"
            },
            "baxis": {
             "endlinecolor": "#2a3f5f",
             "gridcolor": "white",
             "linecolor": "white",
             "minorgridcolor": "white",
             "startlinecolor": "#2a3f5f"
            },
            "type": "carpet"
           }
          ],
          "choropleth": [
           {
            "colorbar": {
             "outlinewidth": 0,
             "ticks": ""
            },
            "type": "choropleth"
           }
          ],
          "contour": [
           {
            "colorbar": {
             "outlinewidth": 0,
             "ticks": ""
            },
            "colorscale": [
             [
              0,
              "#0d0887"
             ],
             [
              0.1111111111111111,
              "#46039f"
             ],
             [
              0.2222222222222222,
              "#7201a8"
             ],
             [
              0.3333333333333333,
              "#9c179e"
             ],
             [
              0.4444444444444444,
              "#bd3786"
             ],
             [
              0.5555555555555556,
              "#d8576b"
             ],
             [
              0.6666666666666666,
              "#ed7953"
             ],
             [
              0.7777777777777778,
              "#fb9f3a"
             ],
             [
              0.8888888888888888,
              "#fdca26"
             ],
             [
              1,
              "#f0f921"
             ]
            ],
            "type": "contour"
           }
          ],
          "contourcarpet": [
           {
            "colorbar": {
             "outlinewidth": 0,
             "ticks": ""
            },
            "type": "contourcarpet"
           }
          ],
          "heatmap": [
           {
            "colorbar": {
             "outlinewidth": 0,
             "ticks": ""
            },
            "colorscale": [
             [
              0,
              "#0d0887"
             ],
             [
              0.1111111111111111,
              "#46039f"
             ],
             [
              0.2222222222222222,
              "#7201a8"
             ],
             [
              0.3333333333333333,
              "#9c179e"
             ],
             [
              0.4444444444444444,
              "#bd3786"
             ],
             [
              0.5555555555555556,
              "#d8576b"
             ],
             [
              0.6666666666666666,
              "#ed7953"
             ],
             [
              0.7777777777777778,
              "#fb9f3a"
             ],
             [
              0.8888888888888888,
              "#fdca26"
             ],
             [
              1,
              "#f0f921"
             ]
            ],
            "type": "heatmap"
           }
          ],
          "heatmapgl": [
           {
            "colorbar": {
             "outlinewidth": 0,
             "ticks": ""
            },
            "colorscale": [
             [
              0,
              "#0d0887"
             ],
             [
              0.1111111111111111,
              "#46039f"
             ],
             [
              0.2222222222222222,
              "#7201a8"
             ],
             [
              0.3333333333333333,
              "#9c179e"
             ],
             [
              0.4444444444444444,
              "#bd3786"
             ],
             [
              0.5555555555555556,
              "#d8576b"
             ],
             [
              0.6666666666666666,
              "#ed7953"
             ],
             [
              0.7777777777777778,
              "#fb9f3a"
             ],
             [
              0.8888888888888888,
              "#fdca26"
             ],
             [
              1,
              "#f0f921"
             ]
            ],
            "type": "heatmapgl"
           }
          ],
          "histogram": [
           {
            "marker": {
             "colorbar": {
              "outlinewidth": 0,
              "ticks": ""
             }
            },
            "type": "histogram"
           }
          ],
          "histogram2d": [
           {
            "colorbar": {
             "outlinewidth": 0,
             "ticks": ""
            },
            "colorscale": [
             [
              0,
              "#0d0887"
             ],
             [
              0.1111111111111111,
              "#46039f"
             ],
             [
              0.2222222222222222,
              "#7201a8"
             ],
             [
              0.3333333333333333,
              "#9c179e"
             ],
             [
              0.4444444444444444,
              "#bd3786"
             ],
             [
              0.5555555555555556,
              "#d8576b"
             ],
             [
              0.6666666666666666,
              "#ed7953"
             ],
             [
              0.7777777777777778,
              "#fb9f3a"
             ],
             [
              0.8888888888888888,
              "#fdca26"
             ],
             [
              1,
              "#f0f921"
             ]
            ],
            "type": "histogram2d"
           }
          ],
          "histogram2dcontour": [
           {
            "colorbar": {
             "outlinewidth": 0,
             "ticks": ""
            },
            "colorscale": [
             [
              0,
              "#0d0887"
             ],
             [
              0.1111111111111111,
              "#46039f"
             ],
             [
              0.2222222222222222,
              "#7201a8"
             ],
             [
              0.3333333333333333,
              "#9c179e"
             ],
             [
              0.4444444444444444,
              "#bd3786"
             ],
             [
              0.5555555555555556,
              "#d8576b"
             ],
             [
              0.6666666666666666,
              "#ed7953"
             ],
             [
              0.7777777777777778,
              "#fb9f3a"
             ],
             [
              0.8888888888888888,
              "#fdca26"
             ],
             [
              1,
              "#f0f921"
             ]
            ],
            "type": "histogram2dcontour"
           }
          ],
          "mesh3d": [
           {
            "colorbar": {
             "outlinewidth": 0,
             "ticks": ""
            },
            "type": "mesh3d"
           }
          ],
          "parcoords": [
           {
            "line": {
             "colorbar": {
              "outlinewidth": 0,
              "ticks": ""
             }
            },
            "type": "parcoords"
           }
          ],
          "pie": [
           {
            "automargin": true,
            "type": "pie"
           }
          ],
          "scatter": [
           {
            "marker": {
             "colorbar": {
              "outlinewidth": 0,
              "ticks": ""
             }
            },
            "type": "scatter"
           }
          ],
          "scatter3d": [
           {
            "line": {
             "colorbar": {
              "outlinewidth": 0,
              "ticks": ""
             }
            },
            "marker": {
             "colorbar": {
              "outlinewidth": 0,
              "ticks": ""
             }
            },
            "type": "scatter3d"
           }
          ],
          "scattercarpet": [
           {
            "marker": {
             "colorbar": {
              "outlinewidth": 0,
              "ticks": ""
             }
            },
            "type": "scattercarpet"
           }
          ],
          "scattergeo": [
           {
            "marker": {
             "colorbar": {
              "outlinewidth": 0,
              "ticks": ""
             }
            },
            "type": "scattergeo"
           }
          ],
          "scattergl": [
           {
            "marker": {
             "colorbar": {
              "outlinewidth": 0,
              "ticks": ""
             }
            },
            "type": "scattergl"
           }
          ],
          "scattermapbox": [
           {
            "marker": {
             "colorbar": {
              "outlinewidth": 0,
              "ticks": ""
             }
            },
            "type": "scattermapbox"
           }
          ],
          "scatterpolar": [
           {
            "marker": {
             "colorbar": {
              "outlinewidth": 0,
              "ticks": ""
             }
            },
            "type": "scatterpolar"
           }
          ],
          "scatterpolargl": [
           {
            "marker": {
             "colorbar": {
              "outlinewidth": 0,
              "ticks": ""
             }
            },
            "type": "scatterpolargl"
           }
          ],
          "scatterternary": [
           {
            "marker": {
             "colorbar": {
              "outlinewidth": 0,
              "ticks": ""
             }
            },
            "type": "scatterternary"
           }
          ],
          "surface": [
           {
            "colorbar": {
             "outlinewidth": 0,
             "ticks": ""
            },
            "colorscale": [
             [
              0,
              "#0d0887"
             ],
             [
              0.1111111111111111,
              "#46039f"
             ],
             [
              0.2222222222222222,
              "#7201a8"
             ],
             [
              0.3333333333333333,
              "#9c179e"
             ],
             [
              0.4444444444444444,
              "#bd3786"
             ],
             [
              0.5555555555555556,
              "#d8576b"
             ],
             [
              0.6666666666666666,
              "#ed7953"
             ],
             [
              0.7777777777777778,
              "#fb9f3a"
             ],
             [
              0.8888888888888888,
              "#fdca26"
             ],
             [
              1,
              "#f0f921"
             ]
            ],
            "type": "surface"
           }
          ],
          "table": [
           {
            "cells": {
             "fill": {
              "color": "#EBF0F8"
             },
             "line": {
              "color": "white"
             }
            },
            "header": {
             "fill": {
              "color": "#C8D4E3"
             },
             "line": {
              "color": "white"
             }
            },
            "type": "table"
           }
          ]
         },
         "layout": {
          "annotationdefaults": {
           "arrowcolor": "#2a3f5f",
           "arrowhead": 0,
           "arrowwidth": 1
          },
          "coloraxis": {
           "colorbar": {
            "outlinewidth": 0,
            "ticks": ""
           }
          },
          "colorscale": {
           "diverging": [
            [
             0,
             "#8e0152"
            ],
            [
             0.1,
             "#c51b7d"
            ],
            [
             0.2,
             "#de77ae"
            ],
            [
             0.3,
             "#f1b6da"
            ],
            [
             0.4,
             "#fde0ef"
            ],
            [
             0.5,
             "#f7f7f7"
            ],
            [
             0.6,
             "#e6f5d0"
            ],
            [
             0.7,
             "#b8e186"
            ],
            [
             0.8,
             "#7fbc41"
            ],
            [
             0.9,
             "#4d9221"
            ],
            [
             1,
             "#276419"
            ]
           ],
           "sequential": [
            [
             0,
             "#0d0887"
            ],
            [
             0.1111111111111111,
             "#46039f"
            ],
            [
             0.2222222222222222,
             "#7201a8"
            ],
            [
             0.3333333333333333,
             "#9c179e"
            ],
            [
             0.4444444444444444,
             "#bd3786"
            ],
            [
             0.5555555555555556,
             "#d8576b"
            ],
            [
             0.6666666666666666,
             "#ed7953"
            ],
            [
             0.7777777777777778,
             "#fb9f3a"
            ],
            [
             0.8888888888888888,
             "#fdca26"
            ],
            [
             1,
             "#f0f921"
            ]
           ],
           "sequentialminus": [
            [
             0,
             "#0d0887"
            ],
            [
             0.1111111111111111,
             "#46039f"
            ],
            [
             0.2222222222222222,
             "#7201a8"
            ],
            [
             0.3333333333333333,
             "#9c179e"
            ],
            [
             0.4444444444444444,
             "#bd3786"
            ],
            [
             0.5555555555555556,
             "#d8576b"
            ],
            [
             0.6666666666666666,
             "#ed7953"
            ],
            [
             0.7777777777777778,
             "#fb9f3a"
            ],
            [
             0.8888888888888888,
             "#fdca26"
            ],
            [
             1,
             "#f0f921"
            ]
           ]
          },
          "colorway": [
           "#636efa",
           "#EF553B",
           "#00cc96",
           "#ab63fa",
           "#FFA15A",
           "#19d3f3",
           "#FF6692",
           "#B6E880",
           "#FF97FF",
           "#FECB52"
          ],
          "font": {
           "color": "#2a3f5f"
          },
          "geo": {
           "bgcolor": "white",
           "lakecolor": "white",
           "landcolor": "#E5ECF6",
           "showlakes": true,
           "showland": true,
           "subunitcolor": "white"
          },
          "hoverlabel": {
           "align": "left"
          },
          "hovermode": "closest",
          "mapbox": {
           "style": "light"
          },
          "paper_bgcolor": "white",
          "plot_bgcolor": "#E5ECF6",
          "polar": {
           "angularaxis": {
            "gridcolor": "white",
            "linecolor": "white",
            "ticks": ""
           },
           "bgcolor": "#E5ECF6",
           "radialaxis": {
            "gridcolor": "white",
            "linecolor": "white",
            "ticks": ""
           }
          },
          "scene": {
           "xaxis": {
            "backgroundcolor": "#E5ECF6",
            "gridcolor": "white",
            "gridwidth": 2,
            "linecolor": "white",
            "showbackground": true,
            "ticks": "",
            "zerolinecolor": "white"
           },
           "yaxis": {
            "backgroundcolor": "#E5ECF6",
            "gridcolor": "white",
            "gridwidth": 2,
            "linecolor": "white",
            "showbackground": true,
            "ticks": "",
            "zerolinecolor": "white"
           },
           "zaxis": {
            "backgroundcolor": "#E5ECF6",
            "gridcolor": "white",
            "gridwidth": 2,
            "linecolor": "white",
            "showbackground": true,
            "ticks": "",
            "zerolinecolor": "white"
           }
          },
          "shapedefaults": {
           "line": {
            "color": "#2a3f5f"
           }
          },
          "ternary": {
           "aaxis": {
            "gridcolor": "white",
            "linecolor": "white",
            "ticks": ""
           },
           "baxis": {
            "gridcolor": "white",
            "linecolor": "white",
            "ticks": ""
           },
           "bgcolor": "#E5ECF6",
           "caxis": {
            "gridcolor": "white",
            "linecolor": "white",
            "ticks": ""
           }
          },
          "title": {
           "x": 0.05
          },
          "xaxis": {
           "automargin": true,
           "gridcolor": "white",
           "linecolor": "white",
           "ticks": "",
           "title": {
            "standoff": 15
           },
           "zerolinecolor": "white",
           "zerolinewidth": 2
          },
          "yaxis": {
           "automargin": true,
           "gridcolor": "white",
           "linecolor": "white",
           "ticks": "",
           "title": {
            "standoff": 15
           },
           "zerolinecolor": "white",
           "zerolinewidth": 2
          }
         }
        },
        "title": {
         "font": {
          "color": "#4D5663"
         },
         "text": "Distribution of Payment type for a trip"
        },
        "xaxis": {
         "gridcolor": "#E1E5ED",
         "showgrid": true,
         "tickfont": {
          "color": "#4D5663"
         },
         "title": {
          "font": {
           "color": "#4D5663"
          },
          "text": "Payment type"
         },
         "zerolinecolor": "#E1E5ED"
        },
        "yaxis": {
         "gridcolor": "#E1E5ED",
         "showgrid": true,
         "tickfont": {
          "color": "#4D5663"
         },
         "title": {
          "font": {
           "color": "#4D5663"
          },
          "text": "Count"
         },
         "zerolinecolor": "#E1E5ED"
        }
       }
      },
      "text/html": [
       "<div>\n",
       "        \n",
       "        \n",
       "            <div id=\"3c48b2f3-44f7-421a-8bad-5cbdb178ccc2\" class=\"plotly-graph-div\" style=\"height:525px; width:100%;\"></div>\n",
       "            <script type=\"text/javascript\">\n",
       "                require([\"plotly\"], function(Plotly) {\n",
       "                    window.PLOTLYENV=window.PLOTLYENV || {};\n",
       "                    window.PLOTLYENV.BASE_URL='https://plot.ly';\n",
       "                    \n",
       "                if (document.getElementById(\"3c48b2f3-44f7-421a-8bad-5cbdb178ccc2\")) {\n",
       "                    Plotly.newPlot(\n",
       "                        '3c48b2f3-44f7-421a-8bad-5cbdb178ccc2',\n",
       "                        [{\"marker\": {\"color\": \"rgba(255, 153, 51, 0.6)\", \"line\": {\"color\": \"rgba(255, 153, 51, 1.0)\", \"width\": 1}}, \"name\": \"Count\", \"orientation\": \"v\", \"text\": \"\", \"type\": \"bar\", \"x\": [1, 2, 3, 4], \"y\": [5486027, 2137415, 33186, 11164]}],\n",
       "                        {\"legend\": {\"bgcolor\": \"#F5F6F9\", \"font\": {\"color\": \"#4D5663\"}}, \"paper_bgcolor\": \"#F5F6F9\", \"plot_bgcolor\": \"#F5F6F9\", \"template\": {\"data\": {\"bar\": [{\"error_x\": {\"color\": \"#2a3f5f\"}, \"error_y\": {\"color\": \"#2a3f5f\"}, \"marker\": {\"line\": {\"color\": \"#E5ECF6\", \"width\": 0.5}}, \"type\": \"bar\"}], \"barpolar\": [{\"marker\": {\"line\": {\"color\": \"#E5ECF6\", \"width\": 0.5}}, \"type\": \"barpolar\"}], \"carpet\": [{\"aaxis\": {\"endlinecolor\": \"#2a3f5f\", \"gridcolor\": \"white\", \"linecolor\": \"white\", \"minorgridcolor\": \"white\", \"startlinecolor\": \"#2a3f5f\"}, \"baxis\": {\"endlinecolor\": \"#2a3f5f\", \"gridcolor\": \"white\", \"linecolor\": \"white\", \"minorgridcolor\": \"white\", \"startlinecolor\": \"#2a3f5f\"}, \"type\": \"carpet\"}], \"choropleth\": [{\"colorbar\": {\"outlinewidth\": 0, \"ticks\": \"\"}, \"type\": \"choropleth\"}], \"contour\": [{\"colorbar\": {\"outlinewidth\": 0, \"ticks\": \"\"}, \"colorscale\": [[0.0, \"#0d0887\"], [0.1111111111111111, \"#46039f\"], [0.2222222222222222, \"#7201a8\"], [0.3333333333333333, \"#9c179e\"], [0.4444444444444444, \"#bd3786\"], [0.5555555555555556, \"#d8576b\"], [0.6666666666666666, \"#ed7953\"], [0.7777777777777778, \"#fb9f3a\"], [0.8888888888888888, \"#fdca26\"], [1.0, \"#f0f921\"]], \"type\": \"contour\"}], \"contourcarpet\": [{\"colorbar\": {\"outlinewidth\": 0, \"ticks\": \"\"}, \"type\": \"contourcarpet\"}], \"heatmap\": [{\"colorbar\": {\"outlinewidth\": 0, \"ticks\": \"\"}, \"colorscale\": [[0.0, \"#0d0887\"], [0.1111111111111111, \"#46039f\"], [0.2222222222222222, \"#7201a8\"], [0.3333333333333333, \"#9c179e\"], [0.4444444444444444, \"#bd3786\"], [0.5555555555555556, \"#d8576b\"], [0.6666666666666666, \"#ed7953\"], [0.7777777777777778, \"#fb9f3a\"], [0.8888888888888888, \"#fdca26\"], [1.0, \"#f0f921\"]], \"type\": \"heatmap\"}], \"heatmapgl\": [{\"colorbar\": {\"outlinewidth\": 0, \"ticks\": \"\"}, \"colorscale\": [[0.0, \"#0d0887\"], [0.1111111111111111, \"#46039f\"], [0.2222222222222222, \"#7201a8\"], [0.3333333333333333, \"#9c179e\"], [0.4444444444444444, \"#bd3786\"], [0.5555555555555556, \"#d8576b\"], [0.6666666666666666, \"#ed7953\"], [0.7777777777777778, \"#fb9f3a\"], [0.8888888888888888, \"#fdca26\"], [1.0, \"#f0f921\"]], \"type\": \"heatmapgl\"}], \"histogram\": [{\"marker\": {\"colorbar\": {\"outlinewidth\": 0, \"ticks\": \"\"}}, \"type\": \"histogram\"}], \"histogram2d\": [{\"colorbar\": {\"outlinewidth\": 0, \"ticks\": \"\"}, \"colorscale\": [[0.0, \"#0d0887\"], [0.1111111111111111, \"#46039f\"], [0.2222222222222222, \"#7201a8\"], [0.3333333333333333, \"#9c179e\"], [0.4444444444444444, \"#bd3786\"], [0.5555555555555556, \"#d8576b\"], [0.6666666666666666, \"#ed7953\"], [0.7777777777777778, \"#fb9f3a\"], [0.8888888888888888, \"#fdca26\"], [1.0, \"#f0f921\"]], \"type\": \"histogram2d\"}], \"histogram2dcontour\": [{\"colorbar\": {\"outlinewidth\": 0, \"ticks\": \"\"}, \"colorscale\": [[0.0, \"#0d0887\"], [0.1111111111111111, \"#46039f\"], [0.2222222222222222, \"#7201a8\"], [0.3333333333333333, \"#9c179e\"], [0.4444444444444444, \"#bd3786\"], [0.5555555555555556, \"#d8576b\"], [0.6666666666666666, \"#ed7953\"], [0.7777777777777778, \"#fb9f3a\"], [0.8888888888888888, \"#fdca26\"], [1.0, \"#f0f921\"]], \"type\": \"histogram2dcontour\"}], \"mesh3d\": [{\"colorbar\": {\"outlinewidth\": 0, \"ticks\": \"\"}, \"type\": \"mesh3d\"}], \"parcoords\": [{\"line\": {\"colorbar\": {\"outlinewidth\": 0, \"ticks\": \"\"}}, \"type\": \"parcoords\"}], \"pie\": [{\"automargin\": true, \"type\": \"pie\"}], \"scatter\": [{\"marker\": {\"colorbar\": {\"outlinewidth\": 0, \"ticks\": \"\"}}, \"type\": \"scatter\"}], \"scatter3d\": [{\"line\": {\"colorbar\": {\"outlinewidth\": 0, \"ticks\": \"\"}}, \"marker\": {\"colorbar\": {\"outlinewidth\": 0, \"ticks\": \"\"}}, \"type\": \"scatter3d\"}], \"scattercarpet\": [{\"marker\": {\"colorbar\": {\"outlinewidth\": 0, \"ticks\": \"\"}}, \"type\": \"scattercarpet\"}], \"scattergeo\": [{\"marker\": {\"colorbar\": {\"outlinewidth\": 0, \"ticks\": \"\"}}, \"type\": \"scattergeo\"}], \"scattergl\": [{\"marker\": {\"colorbar\": {\"outlinewidth\": 0, \"ticks\": \"\"}}, \"type\": \"scattergl\"}], \"scattermapbox\": [{\"marker\": {\"colorbar\": {\"outlinewidth\": 0, \"ticks\": \"\"}}, \"type\": \"scattermapbox\"}], \"scatterpolar\": [{\"marker\": {\"colorbar\": {\"outlinewidth\": 0, \"ticks\": \"\"}}, \"type\": \"scatterpolar\"}], \"scatterpolargl\": [{\"marker\": {\"colorbar\": {\"outlinewidth\": 0, \"ticks\": \"\"}}, \"type\": \"scatterpolargl\"}], \"scatterternary\": [{\"marker\": {\"colorbar\": {\"outlinewidth\": 0, \"ticks\": \"\"}}, \"type\": \"scatterternary\"}], \"surface\": [{\"colorbar\": {\"outlinewidth\": 0, \"ticks\": \"\"}, \"colorscale\": [[0.0, \"#0d0887\"], [0.1111111111111111, \"#46039f\"], [0.2222222222222222, \"#7201a8\"], [0.3333333333333333, \"#9c179e\"], [0.4444444444444444, \"#bd3786\"], [0.5555555555555556, \"#d8576b\"], [0.6666666666666666, \"#ed7953\"], [0.7777777777777778, \"#fb9f3a\"], [0.8888888888888888, \"#fdca26\"], [1.0, \"#f0f921\"]], \"type\": \"surface\"}], \"table\": [{\"cells\": {\"fill\": {\"color\": \"#EBF0F8\"}, \"line\": {\"color\": \"white\"}}, \"header\": {\"fill\": {\"color\": \"#C8D4E3\"}, \"line\": {\"color\": \"white\"}}, \"type\": \"table\"}]}, \"layout\": {\"annotationdefaults\": {\"arrowcolor\": \"#2a3f5f\", \"arrowhead\": 0, \"arrowwidth\": 1}, \"coloraxis\": {\"colorbar\": {\"outlinewidth\": 0, \"ticks\": \"\"}}, \"colorscale\": {\"diverging\": [[0, \"#8e0152\"], [0.1, \"#c51b7d\"], [0.2, \"#de77ae\"], [0.3, \"#f1b6da\"], [0.4, \"#fde0ef\"], [0.5, \"#f7f7f7\"], [0.6, \"#e6f5d0\"], [0.7, \"#b8e186\"], [0.8, \"#7fbc41\"], [0.9, \"#4d9221\"], [1, \"#276419\"]], \"sequential\": [[0.0, \"#0d0887\"], [0.1111111111111111, \"#46039f\"], [0.2222222222222222, \"#7201a8\"], [0.3333333333333333, \"#9c179e\"], [0.4444444444444444, \"#bd3786\"], [0.5555555555555556, \"#d8576b\"], [0.6666666666666666, \"#ed7953\"], [0.7777777777777778, \"#fb9f3a\"], [0.8888888888888888, \"#fdca26\"], [1.0, \"#f0f921\"]], \"sequentialminus\": [[0.0, \"#0d0887\"], [0.1111111111111111, \"#46039f\"], [0.2222222222222222, \"#7201a8\"], [0.3333333333333333, \"#9c179e\"], [0.4444444444444444, \"#bd3786\"], [0.5555555555555556, \"#d8576b\"], [0.6666666666666666, \"#ed7953\"], [0.7777777777777778, \"#fb9f3a\"], [0.8888888888888888, \"#fdca26\"], [1.0, \"#f0f921\"]]}, \"colorway\": [\"#636efa\", \"#EF553B\", \"#00cc96\", \"#ab63fa\", \"#FFA15A\", \"#19d3f3\", \"#FF6692\", \"#B6E880\", \"#FF97FF\", \"#FECB52\"], \"font\": {\"color\": \"#2a3f5f\"}, \"geo\": {\"bgcolor\": \"white\", \"lakecolor\": \"white\", \"landcolor\": \"#E5ECF6\", \"showlakes\": true, \"showland\": true, \"subunitcolor\": \"white\"}, \"hoverlabel\": {\"align\": \"left\"}, \"hovermode\": \"closest\", \"mapbox\": {\"style\": \"light\"}, \"paper_bgcolor\": \"white\", \"plot_bgcolor\": \"#E5ECF6\", \"polar\": {\"angularaxis\": {\"gridcolor\": \"white\", \"linecolor\": \"white\", \"ticks\": \"\"}, \"bgcolor\": \"#E5ECF6\", \"radialaxis\": {\"gridcolor\": \"white\", \"linecolor\": \"white\", \"ticks\": \"\"}}, \"scene\": {\"xaxis\": {\"backgroundcolor\": \"#E5ECF6\", \"gridcolor\": \"white\", \"gridwidth\": 2, \"linecolor\": \"white\", \"showbackground\": true, \"ticks\": \"\", \"zerolinecolor\": \"white\"}, \"yaxis\": {\"backgroundcolor\": \"#E5ECF6\", \"gridcolor\": \"white\", \"gridwidth\": 2, \"linecolor\": \"white\", \"showbackground\": true, \"ticks\": \"\", \"zerolinecolor\": \"white\"}, \"zaxis\": {\"backgroundcolor\": \"#E5ECF6\", \"gridcolor\": \"white\", \"gridwidth\": 2, \"linecolor\": \"white\", \"showbackground\": true, \"ticks\": \"\", \"zerolinecolor\": \"white\"}}, \"shapedefaults\": {\"line\": {\"color\": \"#2a3f5f\"}}, \"ternary\": {\"aaxis\": {\"gridcolor\": \"white\", \"linecolor\": \"white\", \"ticks\": \"\"}, \"baxis\": {\"gridcolor\": \"white\", \"linecolor\": \"white\", \"ticks\": \"\"}, \"bgcolor\": \"#E5ECF6\", \"caxis\": {\"gridcolor\": \"white\", \"linecolor\": \"white\", \"ticks\": \"\"}}, \"title\": {\"x\": 0.05}, \"xaxis\": {\"automargin\": true, \"gridcolor\": \"white\", \"linecolor\": \"white\", \"ticks\": \"\", \"title\": {\"standoff\": 15}, \"zerolinecolor\": \"white\", \"zerolinewidth\": 2}, \"yaxis\": {\"automargin\": true, \"gridcolor\": \"white\", \"linecolor\": \"white\", \"ticks\": \"\", \"title\": {\"standoff\": 15}, \"zerolinecolor\": \"white\", \"zerolinewidth\": 2}}}, \"title\": {\"font\": {\"color\": \"#4D5663\"}, \"text\": \"Distribution of Payment type for a trip\"}, \"xaxis\": {\"gridcolor\": \"#E1E5ED\", \"showgrid\": true, \"tickfont\": {\"color\": \"#4D5663\"}, \"title\": {\"font\": {\"color\": \"#4D5663\"}, \"text\": \"Payment type\"}, \"zerolinecolor\": \"#E1E5ED\"}, \"yaxis\": {\"gridcolor\": \"#E1E5ED\", \"showgrid\": true, \"tickfont\": {\"color\": \"#4D5663\"}, \"title\": {\"font\": {\"color\": \"#4D5663\"}, \"text\": \"Count\"}, \"zerolinecolor\": \"#E1E5ED\"}},\n",
       "                        {\"showLink\": true, \"linkText\": \"Export to plot.ly\", \"plotlyServerURL\": \"https://plot.ly\", \"responsive\": true}\n",
       "                    ).then(function(){\n",
       "                            \n",
       "var gd = document.getElementById('3c48b2f3-44f7-421a-8bad-5cbdb178ccc2');\n",
       "var x = new MutationObserver(function (mutations, observer) {{\n",
       "        var display = window.getComputedStyle(gd).display;\n",
       "        if (!display || display === 'none') {{\n",
       "            console.log([gd, 'removed!']);\n",
       "            Plotly.purge(gd);\n",
       "            observer.disconnect();\n",
       "        }}\n",
       "}});\n",
       "\n",
       "// Listen for the removal of the full notebook cells\n",
       "var notebookContainer = gd.closest('#notebook-container');\n",
       "if (notebookContainer) {{\n",
       "    x.observe(notebookContainer, {childList: true});\n",
       "}}\n",
       "\n",
       "// Listen for the clearing of the current output cell\n",
       "var outputEl = gd.closest('.output');\n",
       "if (outputEl) {{\n",
       "    x.observe(outputEl, {childList: true});\n",
       "}}\n",
       "\n",
       "                        })\n",
       "                };\n",
       "                });\n",
       "            </script>\n",
       "        </div>"
      ]
     },
     "metadata": {},
     "output_type": "display_data"
    }
   ],
   "source": [
    "payment_type = pd.read_sql_query('SELECT payment_type AS ptype, count(*) AS Count FROM `nyc.2019-01` \\\n",
    "                        GROUP BY payment_type', nyc_database)\n",
    "payment_type.iplot(x=\"ptype\", kind=\"bar\", title=\"Distribution of Payment type for a trip\",\n",
    "                      xTitle='Payment type', yTitle='Count')"
   ]
  },
  {
   "cell_type": "code",
   "execution_count": 49,
   "metadata": {},
   "outputs": [
    {
     "data": {
      "application/vnd.plotly.v1+json": {
       "config": {
        "linkText": "Export to plot.ly",
        "plotlyServerURL": "https://plot.ly",
        "showLink": true
       },
       "data": [
        {
         "line": {
          "color": "rgba(255, 0, 136, 1.0)",
          "dash": "solid",
          "shape": "linear",
          "width": 1.3
         },
         "marker": {
          "size": 12,
          "symbol": "circle"
         },
         "mode": "lines+markers",
         "name": "PUcount",
         "text": "",
         "type": "scatter",
         "x": [
          "00",
          "01",
          "02",
          "03",
          "04",
          "05",
          "06",
          "07",
          "08",
          "09",
          "10",
          "11",
          "12",
          "13",
          "14",
          "15",
          "16",
          "17",
          "18",
          "19",
          "20",
          "21",
          "22",
          "23"
         ],
         "y": [
          207653,
          149193,
          109384,
          78041,
          61123,
          74697,
          176741,
          302701,
          371772,
          364353,
          359822,
          373933,
          399330,
          402448,
          431120,
          450418,
          418608,
          466499,
          514036,
          474371,
          422446,
          409234,
          368443,
          281426
         ]
        },
        {
         "line": {
          "color": "rgba(55, 128, 191, 1.0)",
          "dash": "solid",
          "shape": "linear",
          "width": 1.3
         },
         "marker": {
          "size": 12,
          "symbol": "circle"
         },
         "mode": "lines+markers",
         "name": "DOcount",
         "text": "",
         "type": "scatter",
         "x": [
          "00",
          "01",
          "02",
          "03",
          "04",
          "05",
          "06",
          "07",
          "08",
          "09",
          "10",
          "11",
          "12",
          "13",
          "14",
          "15",
          "16",
          "17",
          "18",
          "19",
          "20",
          "21",
          "22",
          "23"
         ],
         "y": [
          222829,
          160359,
          117031,
          81686,
          64812,
          67526,
          155281,
          271557,
          354562,
          368955,
          361530,
          369712,
          399459,
          398689,
          419823,
          449735,
          422547,
          450686,
          516071,
          493024,
          428982,
          410914,
          381032,
          300990
         ]
        }
       ],
       "layout": {
        "legend": {
         "bgcolor": "#F5F6F9",
         "font": {
          "color": "#4D5663"
         }
        },
        "paper_bgcolor": "#F5F6F9",
        "plot_bgcolor": "#F5F6F9",
        "template": {
         "data": {
          "bar": [
           {
            "error_x": {
             "color": "#2a3f5f"
            },
            "error_y": {
             "color": "#2a3f5f"
            },
            "marker": {
             "line": {
              "color": "#E5ECF6",
              "width": 0.5
             }
            },
            "type": "bar"
           }
          ],
          "barpolar": [
           {
            "marker": {
             "line": {
              "color": "#E5ECF6",
              "width": 0.5
             }
            },
            "type": "barpolar"
           }
          ],
          "carpet": [
           {
            "aaxis": {
             "endlinecolor": "#2a3f5f",
             "gridcolor": "white",
             "linecolor": "white",
             "minorgridcolor": "white",
             "startlinecolor": "#2a3f5f"
            },
            "baxis": {
             "endlinecolor": "#2a3f5f",
             "gridcolor": "white",
             "linecolor": "white",
             "minorgridcolor": "white",
             "startlinecolor": "#2a3f5f"
            },
            "type": "carpet"
           }
          ],
          "choropleth": [
           {
            "colorbar": {
             "outlinewidth": 0,
             "ticks": ""
            },
            "type": "choropleth"
           }
          ],
          "contour": [
           {
            "colorbar": {
             "outlinewidth": 0,
             "ticks": ""
            },
            "colorscale": [
             [
              0,
              "#0d0887"
             ],
             [
              0.1111111111111111,
              "#46039f"
             ],
             [
              0.2222222222222222,
              "#7201a8"
             ],
             [
              0.3333333333333333,
              "#9c179e"
             ],
             [
              0.4444444444444444,
              "#bd3786"
             ],
             [
              0.5555555555555556,
              "#d8576b"
             ],
             [
              0.6666666666666666,
              "#ed7953"
             ],
             [
              0.7777777777777778,
              "#fb9f3a"
             ],
             [
              0.8888888888888888,
              "#fdca26"
             ],
             [
              1,
              "#f0f921"
             ]
            ],
            "type": "contour"
           }
          ],
          "contourcarpet": [
           {
            "colorbar": {
             "outlinewidth": 0,
             "ticks": ""
            },
            "type": "contourcarpet"
           }
          ],
          "heatmap": [
           {
            "colorbar": {
             "outlinewidth": 0,
             "ticks": ""
            },
            "colorscale": [
             [
              0,
              "#0d0887"
             ],
             [
              0.1111111111111111,
              "#46039f"
             ],
             [
              0.2222222222222222,
              "#7201a8"
             ],
             [
              0.3333333333333333,
              "#9c179e"
             ],
             [
              0.4444444444444444,
              "#bd3786"
             ],
             [
              0.5555555555555556,
              "#d8576b"
             ],
             [
              0.6666666666666666,
              "#ed7953"
             ],
             [
              0.7777777777777778,
              "#fb9f3a"
             ],
             [
              0.8888888888888888,
              "#fdca26"
             ],
             [
              1,
              "#f0f921"
             ]
            ],
            "type": "heatmap"
           }
          ],
          "heatmapgl": [
           {
            "colorbar": {
             "outlinewidth": 0,
             "ticks": ""
            },
            "colorscale": [
             [
              0,
              "#0d0887"
             ],
             [
              0.1111111111111111,
              "#46039f"
             ],
             [
              0.2222222222222222,
              "#7201a8"
             ],
             [
              0.3333333333333333,
              "#9c179e"
             ],
             [
              0.4444444444444444,
              "#bd3786"
             ],
             [
              0.5555555555555556,
              "#d8576b"
             ],
             [
              0.6666666666666666,
              "#ed7953"
             ],
             [
              0.7777777777777778,
              "#fb9f3a"
             ],
             [
              0.8888888888888888,
              "#fdca26"
             ],
             [
              1,
              "#f0f921"
             ]
            ],
            "type": "heatmapgl"
           }
          ],
          "histogram": [
           {
            "marker": {
             "colorbar": {
              "outlinewidth": 0,
              "ticks": ""
             }
            },
            "type": "histogram"
           }
          ],
          "histogram2d": [
           {
            "colorbar": {
             "outlinewidth": 0,
             "ticks": ""
            },
            "colorscale": [
             [
              0,
              "#0d0887"
             ],
             [
              0.1111111111111111,
              "#46039f"
             ],
             [
              0.2222222222222222,
              "#7201a8"
             ],
             [
              0.3333333333333333,
              "#9c179e"
             ],
             [
              0.4444444444444444,
              "#bd3786"
             ],
             [
              0.5555555555555556,
              "#d8576b"
             ],
             [
              0.6666666666666666,
              "#ed7953"
             ],
             [
              0.7777777777777778,
              "#fb9f3a"
             ],
             [
              0.8888888888888888,
              "#fdca26"
             ],
             [
              1,
              "#f0f921"
             ]
            ],
            "type": "histogram2d"
           }
          ],
          "histogram2dcontour": [
           {
            "colorbar": {
             "outlinewidth": 0,
             "ticks": ""
            },
            "colorscale": [
             [
              0,
              "#0d0887"
             ],
             [
              0.1111111111111111,
              "#46039f"
             ],
             [
              0.2222222222222222,
              "#7201a8"
             ],
             [
              0.3333333333333333,
              "#9c179e"
             ],
             [
              0.4444444444444444,
              "#bd3786"
             ],
             [
              0.5555555555555556,
              "#d8576b"
             ],
             [
              0.6666666666666666,
              "#ed7953"
             ],
             [
              0.7777777777777778,
              "#fb9f3a"
             ],
             [
              0.8888888888888888,
              "#fdca26"
             ],
             [
              1,
              "#f0f921"
             ]
            ],
            "type": "histogram2dcontour"
           }
          ],
          "mesh3d": [
           {
            "colorbar": {
             "outlinewidth": 0,
             "ticks": ""
            },
            "type": "mesh3d"
           }
          ],
          "parcoords": [
           {
            "line": {
             "colorbar": {
              "outlinewidth": 0,
              "ticks": ""
             }
            },
            "type": "parcoords"
           }
          ],
          "pie": [
           {
            "automargin": true,
            "type": "pie"
           }
          ],
          "scatter": [
           {
            "marker": {
             "colorbar": {
              "outlinewidth": 0,
              "ticks": ""
             }
            },
            "type": "scatter"
           }
          ],
          "scatter3d": [
           {
            "line": {
             "colorbar": {
              "outlinewidth": 0,
              "ticks": ""
             }
            },
            "marker": {
             "colorbar": {
              "outlinewidth": 0,
              "ticks": ""
             }
            },
            "type": "scatter3d"
           }
          ],
          "scattercarpet": [
           {
            "marker": {
             "colorbar": {
              "outlinewidth": 0,
              "ticks": ""
             }
            },
            "type": "scattercarpet"
           }
          ],
          "scattergeo": [
           {
            "marker": {
             "colorbar": {
              "outlinewidth": 0,
              "ticks": ""
             }
            },
            "type": "scattergeo"
           }
          ],
          "scattergl": [
           {
            "marker": {
             "colorbar": {
              "outlinewidth": 0,
              "ticks": ""
             }
            },
            "type": "scattergl"
           }
          ],
          "scattermapbox": [
           {
            "marker": {
             "colorbar": {
              "outlinewidth": 0,
              "ticks": ""
             }
            },
            "type": "scattermapbox"
           }
          ],
          "scatterpolar": [
           {
            "marker": {
             "colorbar": {
              "outlinewidth": 0,
              "ticks": ""
             }
            },
            "type": "scatterpolar"
           }
          ],
          "scatterpolargl": [
           {
            "marker": {
             "colorbar": {
              "outlinewidth": 0,
              "ticks": ""
             }
            },
            "type": "scatterpolargl"
           }
          ],
          "scatterternary": [
           {
            "marker": {
             "colorbar": {
              "outlinewidth": 0,
              "ticks": ""
             }
            },
            "type": "scatterternary"
           }
          ],
          "surface": [
           {
            "colorbar": {
             "outlinewidth": 0,
             "ticks": ""
            },
            "colorscale": [
             [
              0,
              "#0d0887"
             ],
             [
              0.1111111111111111,
              "#46039f"
             ],
             [
              0.2222222222222222,
              "#7201a8"
             ],
             [
              0.3333333333333333,
              "#9c179e"
             ],
             [
              0.4444444444444444,
              "#bd3786"
             ],
             [
              0.5555555555555556,
              "#d8576b"
             ],
             [
              0.6666666666666666,
              "#ed7953"
             ],
             [
              0.7777777777777778,
              "#fb9f3a"
             ],
             [
              0.8888888888888888,
              "#fdca26"
             ],
             [
              1,
              "#f0f921"
             ]
            ],
            "type": "surface"
           }
          ],
          "table": [
           {
            "cells": {
             "fill": {
              "color": "#EBF0F8"
             },
             "line": {
              "color": "white"
             }
            },
            "header": {
             "fill": {
              "color": "#C8D4E3"
             },
             "line": {
              "color": "white"
             }
            },
            "type": "table"
           }
          ]
         },
         "layout": {
          "annotationdefaults": {
           "arrowcolor": "#2a3f5f",
           "arrowhead": 0,
           "arrowwidth": 1
          },
          "coloraxis": {
           "colorbar": {
            "outlinewidth": 0,
            "ticks": ""
           }
          },
          "colorscale": {
           "diverging": [
            [
             0,
             "#8e0152"
            ],
            [
             0.1,
             "#c51b7d"
            ],
            [
             0.2,
             "#de77ae"
            ],
            [
             0.3,
             "#f1b6da"
            ],
            [
             0.4,
             "#fde0ef"
            ],
            [
             0.5,
             "#f7f7f7"
            ],
            [
             0.6,
             "#e6f5d0"
            ],
            [
             0.7,
             "#b8e186"
            ],
            [
             0.8,
             "#7fbc41"
            ],
            [
             0.9,
             "#4d9221"
            ],
            [
             1,
             "#276419"
            ]
           ],
           "sequential": [
            [
             0,
             "#0d0887"
            ],
            [
             0.1111111111111111,
             "#46039f"
            ],
            [
             0.2222222222222222,
             "#7201a8"
            ],
            [
             0.3333333333333333,
             "#9c179e"
            ],
            [
             0.4444444444444444,
             "#bd3786"
            ],
            [
             0.5555555555555556,
             "#d8576b"
            ],
            [
             0.6666666666666666,
             "#ed7953"
            ],
            [
             0.7777777777777778,
             "#fb9f3a"
            ],
            [
             0.8888888888888888,
             "#fdca26"
            ],
            [
             1,
             "#f0f921"
            ]
           ],
           "sequentialminus": [
            [
             0,
             "#0d0887"
            ],
            [
             0.1111111111111111,
             "#46039f"
            ],
            [
             0.2222222222222222,
             "#7201a8"
            ],
            [
             0.3333333333333333,
             "#9c179e"
            ],
            [
             0.4444444444444444,
             "#bd3786"
            ],
            [
             0.5555555555555556,
             "#d8576b"
            ],
            [
             0.6666666666666666,
             "#ed7953"
            ],
            [
             0.7777777777777778,
             "#fb9f3a"
            ],
            [
             0.8888888888888888,
             "#fdca26"
            ],
            [
             1,
             "#f0f921"
            ]
           ]
          },
          "colorway": [
           "#636efa",
           "#EF553B",
           "#00cc96",
           "#ab63fa",
           "#FFA15A",
           "#19d3f3",
           "#FF6692",
           "#B6E880",
           "#FF97FF",
           "#FECB52"
          ],
          "font": {
           "color": "#2a3f5f"
          },
          "geo": {
           "bgcolor": "white",
           "lakecolor": "white",
           "landcolor": "#E5ECF6",
           "showlakes": true,
           "showland": true,
           "subunitcolor": "white"
          },
          "hoverlabel": {
           "align": "left"
          },
          "hovermode": "closest",
          "mapbox": {
           "style": "light"
          },
          "paper_bgcolor": "white",
          "plot_bgcolor": "#E5ECF6",
          "polar": {
           "angularaxis": {
            "gridcolor": "white",
            "linecolor": "white",
            "ticks": ""
           },
           "bgcolor": "#E5ECF6",
           "radialaxis": {
            "gridcolor": "white",
            "linecolor": "white",
            "ticks": ""
           }
          },
          "scene": {
           "xaxis": {
            "backgroundcolor": "#E5ECF6",
            "gridcolor": "white",
            "gridwidth": 2,
            "linecolor": "white",
            "showbackground": true,
            "ticks": "",
            "zerolinecolor": "white"
           },
           "yaxis": {
            "backgroundcolor": "#E5ECF6",
            "gridcolor": "white",
            "gridwidth": 2,
            "linecolor": "white",
            "showbackground": true,
            "ticks": "",
            "zerolinecolor": "white"
           },
           "zaxis": {
            "backgroundcolor": "#E5ECF6",
            "gridcolor": "white",
            "gridwidth": 2,
            "linecolor": "white",
            "showbackground": true,
            "ticks": "",
            "zerolinecolor": "white"
           }
          },
          "shapedefaults": {
           "line": {
            "color": "#2a3f5f"
           }
          },
          "ternary": {
           "aaxis": {
            "gridcolor": "white",
            "linecolor": "white",
            "ticks": ""
           },
           "baxis": {
            "gridcolor": "white",
            "linecolor": "white",
            "ticks": ""
           },
           "bgcolor": "#E5ECF6",
           "caxis": {
            "gridcolor": "white",
            "linecolor": "white",
            "ticks": ""
           }
          },
          "title": {
           "x": 0.05
          },
          "xaxis": {
           "automargin": true,
           "gridcolor": "white",
           "linecolor": "white",
           "ticks": "",
           "title": {
            "standoff": 15
           },
           "zerolinecolor": "white",
           "zerolinewidth": 2
          },
          "yaxis": {
           "automargin": true,
           "gridcolor": "white",
           "linecolor": "white",
           "ticks": "",
           "title": {
            "standoff": 15
           },
           "zerolinecolor": "white",
           "zerolinewidth": 2
          }
         }
        },
        "title": {
         "font": {
          "color": "#4D5663"
         }
        },
        "xaxis": {
         "gridcolor": "#E1E5ED",
         "showgrid": true,
         "tickfont": {
          "color": "#4D5663"
         },
         "title": {
          "font": {
           "color": "#4D5663"
          },
          "text": ""
         },
         "zerolinecolor": "#E1E5ED"
        },
        "yaxis": {
         "gridcolor": "#E1E5ED",
         "showgrid": true,
         "tickfont": {
          "color": "#4D5663"
         },
         "title": {
          "font": {
           "color": "#4D5663"
          },
          "text": ""
         },
         "zerolinecolor": "#E1E5ED"
        }
       }
      },
      "text/html": [
       "<div>\n",
       "        \n",
       "        \n",
       "            <div id=\"543b744c-e846-4a70-8892-fd54b85d01b5\" class=\"plotly-graph-div\" style=\"height:525px; width:100%;\"></div>\n",
       "            <script type=\"text/javascript\">\n",
       "                require([\"plotly\"], function(Plotly) {\n",
       "                    window.PLOTLYENV=window.PLOTLYENV || {};\n",
       "                    window.PLOTLYENV.BASE_URL='https://plot.ly';\n",
       "                    \n",
       "                if (document.getElementById(\"543b744c-e846-4a70-8892-fd54b85d01b5\")) {\n",
       "                    Plotly.newPlot(\n",
       "                        '543b744c-e846-4a70-8892-fd54b85d01b5',\n",
       "                        [{\"line\": {\"color\": \"rgba(255, 0, 136, 1.0)\", \"dash\": \"solid\", \"shape\": \"linear\", \"width\": 1.3}, \"marker\": {\"size\": 12, \"symbol\": \"circle\"}, \"mode\": \"lines+markers\", \"name\": \"PUcount\", \"text\": \"\", \"type\": \"scatter\", \"x\": [\"00\", \"01\", \"02\", \"03\", \"04\", \"05\", \"06\", \"07\", \"08\", \"09\", \"10\", \"11\", \"12\", \"13\", \"14\", \"15\", \"16\", \"17\", \"18\", \"19\", \"20\", \"21\", \"22\", \"23\"], \"y\": [207653, 149193, 109384, 78041, 61123, 74697, 176741, 302701, 371772, 364353, 359822, 373933, 399330, 402448, 431120, 450418, 418608, 466499, 514036, 474371, 422446, 409234, 368443, 281426]}, {\"line\": {\"color\": \"rgba(55, 128, 191, 1.0)\", \"dash\": \"solid\", \"shape\": \"linear\", \"width\": 1.3}, \"marker\": {\"size\": 12, \"symbol\": \"circle\"}, \"mode\": \"lines+markers\", \"name\": \"DOcount\", \"text\": \"\", \"type\": \"scatter\", \"x\": [\"00\", \"01\", \"02\", \"03\", \"04\", \"05\", \"06\", \"07\", \"08\", \"09\", \"10\", \"11\", \"12\", \"13\", \"14\", \"15\", \"16\", \"17\", \"18\", \"19\", \"20\", \"21\", \"22\", \"23\"], \"y\": [222829, 160359, 117031, 81686, 64812, 67526, 155281, 271557, 354562, 368955, 361530, 369712, 399459, 398689, 419823, 449735, 422547, 450686, 516071, 493024, 428982, 410914, 381032, 300990]}],\n",
       "                        {\"legend\": {\"bgcolor\": \"#F5F6F9\", \"font\": {\"color\": \"#4D5663\"}}, \"paper_bgcolor\": \"#F5F6F9\", \"plot_bgcolor\": \"#F5F6F9\", \"template\": {\"data\": {\"bar\": [{\"error_x\": {\"color\": \"#2a3f5f\"}, \"error_y\": {\"color\": \"#2a3f5f\"}, \"marker\": {\"line\": {\"color\": \"#E5ECF6\", \"width\": 0.5}}, \"type\": \"bar\"}], \"barpolar\": [{\"marker\": {\"line\": {\"color\": \"#E5ECF6\", \"width\": 0.5}}, \"type\": \"barpolar\"}], \"carpet\": [{\"aaxis\": {\"endlinecolor\": \"#2a3f5f\", \"gridcolor\": \"white\", \"linecolor\": \"white\", \"minorgridcolor\": \"white\", \"startlinecolor\": \"#2a3f5f\"}, \"baxis\": {\"endlinecolor\": \"#2a3f5f\", \"gridcolor\": \"white\", \"linecolor\": \"white\", \"minorgridcolor\": \"white\", \"startlinecolor\": \"#2a3f5f\"}, \"type\": \"carpet\"}], \"choropleth\": [{\"colorbar\": {\"outlinewidth\": 0, \"ticks\": \"\"}, \"type\": \"choropleth\"}], \"contour\": [{\"colorbar\": {\"outlinewidth\": 0, \"ticks\": \"\"}, \"colorscale\": [[0.0, \"#0d0887\"], [0.1111111111111111, \"#46039f\"], [0.2222222222222222, \"#7201a8\"], [0.3333333333333333, \"#9c179e\"], [0.4444444444444444, \"#bd3786\"], [0.5555555555555556, \"#d8576b\"], [0.6666666666666666, \"#ed7953\"], [0.7777777777777778, \"#fb9f3a\"], [0.8888888888888888, \"#fdca26\"], [1.0, \"#f0f921\"]], \"type\": \"contour\"}], \"contourcarpet\": [{\"colorbar\": {\"outlinewidth\": 0, \"ticks\": \"\"}, \"type\": \"contourcarpet\"}], \"heatmap\": [{\"colorbar\": {\"outlinewidth\": 0, \"ticks\": \"\"}, \"colorscale\": [[0.0, \"#0d0887\"], [0.1111111111111111, \"#46039f\"], [0.2222222222222222, \"#7201a8\"], [0.3333333333333333, \"#9c179e\"], [0.4444444444444444, \"#bd3786\"], [0.5555555555555556, \"#d8576b\"], [0.6666666666666666, \"#ed7953\"], [0.7777777777777778, \"#fb9f3a\"], [0.8888888888888888, \"#fdca26\"], [1.0, \"#f0f921\"]], \"type\": \"heatmap\"}], \"heatmapgl\": [{\"colorbar\": {\"outlinewidth\": 0, \"ticks\": \"\"}, \"colorscale\": [[0.0, \"#0d0887\"], [0.1111111111111111, \"#46039f\"], [0.2222222222222222, \"#7201a8\"], [0.3333333333333333, \"#9c179e\"], [0.4444444444444444, \"#bd3786\"], [0.5555555555555556, \"#d8576b\"], [0.6666666666666666, \"#ed7953\"], [0.7777777777777778, \"#fb9f3a\"], [0.8888888888888888, \"#fdca26\"], [1.0, \"#f0f921\"]], \"type\": \"heatmapgl\"}], \"histogram\": [{\"marker\": {\"colorbar\": {\"outlinewidth\": 0, \"ticks\": \"\"}}, \"type\": \"histogram\"}], \"histogram2d\": [{\"colorbar\": {\"outlinewidth\": 0, \"ticks\": \"\"}, \"colorscale\": [[0.0, \"#0d0887\"], [0.1111111111111111, \"#46039f\"], [0.2222222222222222, \"#7201a8\"], [0.3333333333333333, \"#9c179e\"], [0.4444444444444444, \"#bd3786\"], [0.5555555555555556, \"#d8576b\"], [0.6666666666666666, \"#ed7953\"], [0.7777777777777778, \"#fb9f3a\"], [0.8888888888888888, \"#fdca26\"], [1.0, \"#f0f921\"]], \"type\": \"histogram2d\"}], \"histogram2dcontour\": [{\"colorbar\": {\"outlinewidth\": 0, \"ticks\": \"\"}, \"colorscale\": [[0.0, \"#0d0887\"], [0.1111111111111111, \"#46039f\"], [0.2222222222222222, \"#7201a8\"], [0.3333333333333333, \"#9c179e\"], [0.4444444444444444, \"#bd3786\"], [0.5555555555555556, \"#d8576b\"], [0.6666666666666666, \"#ed7953\"], [0.7777777777777778, \"#fb9f3a\"], [0.8888888888888888, \"#fdca26\"], [1.0, \"#f0f921\"]], \"type\": \"histogram2dcontour\"}], \"mesh3d\": [{\"colorbar\": {\"outlinewidth\": 0, \"ticks\": \"\"}, \"type\": \"mesh3d\"}], \"parcoords\": [{\"line\": {\"colorbar\": {\"outlinewidth\": 0, \"ticks\": \"\"}}, \"type\": \"parcoords\"}], \"pie\": [{\"automargin\": true, \"type\": \"pie\"}], \"scatter\": [{\"marker\": {\"colorbar\": {\"outlinewidth\": 0, \"ticks\": \"\"}}, \"type\": \"scatter\"}], \"scatter3d\": [{\"line\": {\"colorbar\": {\"outlinewidth\": 0, \"ticks\": \"\"}}, \"marker\": {\"colorbar\": {\"outlinewidth\": 0, \"ticks\": \"\"}}, \"type\": \"scatter3d\"}], \"scattercarpet\": [{\"marker\": {\"colorbar\": {\"outlinewidth\": 0, \"ticks\": \"\"}}, \"type\": \"scattercarpet\"}], \"scattergeo\": [{\"marker\": {\"colorbar\": {\"outlinewidth\": 0, \"ticks\": \"\"}}, \"type\": \"scattergeo\"}], \"scattergl\": [{\"marker\": {\"colorbar\": {\"outlinewidth\": 0, \"ticks\": \"\"}}, \"type\": \"scattergl\"}], \"scattermapbox\": [{\"marker\": {\"colorbar\": {\"outlinewidth\": 0, \"ticks\": \"\"}}, \"type\": \"scattermapbox\"}], \"scatterpolar\": [{\"marker\": {\"colorbar\": {\"outlinewidth\": 0, \"ticks\": \"\"}}, \"type\": \"scatterpolar\"}], \"scatterpolargl\": [{\"marker\": {\"colorbar\": {\"outlinewidth\": 0, \"ticks\": \"\"}}, \"type\": \"scatterpolargl\"}], \"scatterternary\": [{\"marker\": {\"colorbar\": {\"outlinewidth\": 0, \"ticks\": \"\"}}, \"type\": \"scatterternary\"}], \"surface\": [{\"colorbar\": {\"outlinewidth\": 0, \"ticks\": \"\"}, \"colorscale\": [[0.0, \"#0d0887\"], [0.1111111111111111, \"#46039f\"], [0.2222222222222222, \"#7201a8\"], [0.3333333333333333, \"#9c179e\"], [0.4444444444444444, \"#bd3786\"], [0.5555555555555556, \"#d8576b\"], [0.6666666666666666, \"#ed7953\"], [0.7777777777777778, \"#fb9f3a\"], [0.8888888888888888, \"#fdca26\"], [1.0, \"#f0f921\"]], \"type\": \"surface\"}], \"table\": [{\"cells\": {\"fill\": {\"color\": \"#EBF0F8\"}, \"line\": {\"color\": \"white\"}}, \"header\": {\"fill\": {\"color\": \"#C8D4E3\"}, \"line\": {\"color\": \"white\"}}, \"type\": \"table\"}]}, \"layout\": {\"annotationdefaults\": {\"arrowcolor\": \"#2a3f5f\", \"arrowhead\": 0, \"arrowwidth\": 1}, \"coloraxis\": {\"colorbar\": {\"outlinewidth\": 0, \"ticks\": \"\"}}, \"colorscale\": {\"diverging\": [[0, \"#8e0152\"], [0.1, \"#c51b7d\"], [0.2, \"#de77ae\"], [0.3, \"#f1b6da\"], [0.4, \"#fde0ef\"], [0.5, \"#f7f7f7\"], [0.6, \"#e6f5d0\"], [0.7, \"#b8e186\"], [0.8, \"#7fbc41\"], [0.9, \"#4d9221\"], [1, \"#276419\"]], \"sequential\": [[0.0, \"#0d0887\"], [0.1111111111111111, \"#46039f\"], [0.2222222222222222, \"#7201a8\"], [0.3333333333333333, \"#9c179e\"], [0.4444444444444444, \"#bd3786\"], [0.5555555555555556, \"#d8576b\"], [0.6666666666666666, \"#ed7953\"], [0.7777777777777778, \"#fb9f3a\"], [0.8888888888888888, \"#fdca26\"], [1.0, \"#f0f921\"]], \"sequentialminus\": [[0.0, \"#0d0887\"], [0.1111111111111111, \"#46039f\"], [0.2222222222222222, \"#7201a8\"], [0.3333333333333333, \"#9c179e\"], [0.4444444444444444, \"#bd3786\"], [0.5555555555555556, \"#d8576b\"], [0.6666666666666666, \"#ed7953\"], [0.7777777777777778, \"#fb9f3a\"], [0.8888888888888888, \"#fdca26\"], [1.0, \"#f0f921\"]]}, \"colorway\": [\"#636efa\", \"#EF553B\", \"#00cc96\", \"#ab63fa\", \"#FFA15A\", \"#19d3f3\", \"#FF6692\", \"#B6E880\", \"#FF97FF\", \"#FECB52\"], \"font\": {\"color\": \"#2a3f5f\"}, \"geo\": {\"bgcolor\": \"white\", \"lakecolor\": \"white\", \"landcolor\": \"#E5ECF6\", \"showlakes\": true, \"showland\": true, \"subunitcolor\": \"white\"}, \"hoverlabel\": {\"align\": \"left\"}, \"hovermode\": \"closest\", \"mapbox\": {\"style\": \"light\"}, \"paper_bgcolor\": \"white\", \"plot_bgcolor\": \"#E5ECF6\", \"polar\": {\"angularaxis\": {\"gridcolor\": \"white\", \"linecolor\": \"white\", \"ticks\": \"\"}, \"bgcolor\": \"#E5ECF6\", \"radialaxis\": {\"gridcolor\": \"white\", \"linecolor\": \"white\", \"ticks\": \"\"}}, \"scene\": {\"xaxis\": {\"backgroundcolor\": \"#E5ECF6\", \"gridcolor\": \"white\", \"gridwidth\": 2, \"linecolor\": \"white\", \"showbackground\": true, \"ticks\": \"\", \"zerolinecolor\": \"white\"}, \"yaxis\": {\"backgroundcolor\": \"#E5ECF6\", \"gridcolor\": \"white\", \"gridwidth\": 2, \"linecolor\": \"white\", \"showbackground\": true, \"ticks\": \"\", \"zerolinecolor\": \"white\"}, \"zaxis\": {\"backgroundcolor\": \"#E5ECF6\", \"gridcolor\": \"white\", \"gridwidth\": 2, \"linecolor\": \"white\", \"showbackground\": true, \"ticks\": \"\", \"zerolinecolor\": \"white\"}}, \"shapedefaults\": {\"line\": {\"color\": \"#2a3f5f\"}}, \"ternary\": {\"aaxis\": {\"gridcolor\": \"white\", \"linecolor\": \"white\", \"ticks\": \"\"}, \"baxis\": {\"gridcolor\": \"white\", \"linecolor\": \"white\", \"ticks\": \"\"}, \"bgcolor\": \"#E5ECF6\", \"caxis\": {\"gridcolor\": \"white\", \"linecolor\": \"white\", \"ticks\": \"\"}}, \"title\": {\"x\": 0.05}, \"xaxis\": {\"automargin\": true, \"gridcolor\": \"white\", \"linecolor\": \"white\", \"ticks\": \"\", \"title\": {\"standoff\": 15}, \"zerolinecolor\": \"white\", \"zerolinewidth\": 2}, \"yaxis\": {\"automargin\": true, \"gridcolor\": \"white\", \"linecolor\": \"white\", \"ticks\": \"\", \"title\": {\"standoff\": 15}, \"zerolinecolor\": \"white\", \"zerolinewidth\": 2}}}, \"title\": {\"font\": {\"color\": \"#4D5663\"}}, \"xaxis\": {\"gridcolor\": \"#E1E5ED\", \"showgrid\": true, \"tickfont\": {\"color\": \"#4D5663\"}, \"title\": {\"font\": {\"color\": \"#4D5663\"}, \"text\": \"\"}, \"zerolinecolor\": \"#E1E5ED\"}, \"yaxis\": {\"gridcolor\": \"#E1E5ED\", \"showgrid\": true, \"tickfont\": {\"color\": \"#4D5663\"}, \"title\": {\"font\": {\"color\": \"#4D5663\"}, \"text\": \"\"}, \"zerolinecolor\": \"#E1E5ED\"}},\n",
       "                        {\"showLink\": true, \"linkText\": \"Export to plot.ly\", \"plotlyServerURL\": \"https://plot.ly\", \"responsive\": true}\n",
       "                    ).then(function(){\n",
       "                            \n",
       "var gd = document.getElementById('543b744c-e846-4a70-8892-fd54b85d01b5');\n",
       "var x = new MutationObserver(function (mutations, observer) {{\n",
       "        var display = window.getComputedStyle(gd).display;\n",
       "        if (!display || display === 'none') {{\n",
       "            console.log([gd, 'removed!']);\n",
       "            Plotly.purge(gd);\n",
       "            observer.disconnect();\n",
       "        }}\n",
       "}});\n",
       "\n",
       "// Listen for the removal of the full notebook cells\n",
       "var notebookContainer = gd.closest('#notebook-container');\n",
       "if (notebookContainer) {{\n",
       "    x.observe(notebookContainer, {childList: true});\n",
       "}}\n",
       "\n",
       "// Listen for the clearing of the current output cell\n",
       "var outputEl = gd.closest('.output');\n",
       "if (outputEl) {{\n",
       "    x.observe(outputEl, {childList: true});\n",
       "}}\n",
       "\n",
       "                        })\n",
       "                };\n",
       "                });\n",
       "            </script>\n",
       "        </div>"
      ]
     },
     "metadata": {},
     "output_type": "display_data"
    }
   ],
   "source": [
    "df_pu = pd.read_sql_query('SELECT pickup_hour AS time, count(*) AS PUcount \\\n",
    "                        FROM `nyc.2019-01` \\\n",
    "                        GROUP BY pickup_hour', nyc_database)\n",
    "df_do = pd.read_sql_query('SELECT dropoff_hour AS time, count(*) AS DOcount \\\n",
    "                        FROM `nyc.2019-01` \\\n",
    "                        GROUP BY dropoff_hour', nyc_database)\n",
    "df_q2 = df_pu.merge(df_do, on=\"time\")\n",
    "\n",
    "\n",
    "df_q2.iplot(x=\"time\", kind=\"scatter\", mode='lines+markers', colors=['pink','blue'])"
   ]
  },
  {
   "cell_type": "code",
   "execution_count": null,
   "metadata": {},
   "outputs": [],
   "source": []
  }
 ],
 "metadata": {
  "kernelspec": {
   "display_name": "Python 3",
   "language": "python",
   "name": "python3"
  },
  "language_info": {
   "codemirror_mode": {
    "name": "ipython",
    "version": 3
   },
   "file_extension": ".py",
   "mimetype": "text/x-python",
   "name": "python",
   "nbconvert_exporter": "python",
   "pygments_lexer": "ipython3",
   "version": "3.7.4"
  }
 },
 "nbformat": 4,
 "nbformat_minor": 2
}
